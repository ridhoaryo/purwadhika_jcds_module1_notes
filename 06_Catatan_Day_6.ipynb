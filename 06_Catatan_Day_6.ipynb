{
 "cells": [
  {
   "cell_type": "markdown",
   "metadata": {},
   "source": [
    "# 6.1 Function "
   ]
  },
  {
   "cell_type": "markdown",
   "metadata": {},
   "source": [
    "## 6.1.1 How to make function "
   ]
  },
  {
   "cell_type": "code",
   "execution_count": 23,
   "metadata": {},
   "outputs": [
    {
     "name": "stdout",
     "output_type": "stream",
     "text": [
      "hello world!\n"
     ]
    }
   ],
   "source": [
    "# def functin_name(params):\n",
    "#     programs\n",
    "\n",
    "def hello():\n",
    "    print('hello world!')\n",
    "    \n",
    "hello()"
   ]
  },
  {
   "cell_type": "code",
   "execution_count": 24,
   "metadata": {},
   "outputs": [
    {
     "name": "stdout",
     "output_type": "stream",
     "text": [
      "4\n",
      "9\n"
     ]
    }
   ],
   "source": [
    "# function power 2\n",
    "def power(x):\n",
    "    print(x**2)\n",
    "\n",
    "power(2)\n",
    "power(3)"
   ]
  },
  {
   "cell_type": "code",
   "execution_count": 25,
   "metadata": {
    "scrolled": true
   },
   "outputs": [
    {
     "name": "stdout",
     "output_type": "stream",
     "text": [
      "1267650600228229401496703205376\n"
     ]
    }
   ],
   "source": [
    "# function power with 2 params\n",
    "def power2(x, a):\n",
    "    print(x**a)\n",
    "\n",
    "power2(2,100)"
   ]
  },
  {
   "cell_type": "markdown",
   "metadata": {},
   "source": [
    "## 6.1.2 Quiz"
   ]
  },
  {
   "cell_type": "code",
   "execution_count": 1,
   "metadata": {
    "scrolled": false
   },
   "outputs": [
    {
     "name": "stdout",
     "output_type": "stream",
     "text": [
      "Input number: 3\n",
      "3.0 is an odd number!\n"
     ]
    }
   ],
   "source": [
    "def odd_even(x):\n",
    "    if x%2 == 0:\n",
    "        print('{} is an even number!'.format(x))\n",
    "    else:\n",
    "        print('{} is an odd number!'.format(x))\n",
    "\n",
    "odd_even(float(input('Input number: ')))"
   ]
  },
  {
   "cell_type": "code",
   "execution_count": null,
   "metadata": {},
   "outputs": [],
   "source": [
    "# operator={'+': +, '-': -, '/': /, '*': *}\n",
    "def basic_calc(num_1, ops, num_2):\n",
    "    if str(ops)=='+':\n",
    "        return sum(num_1, num_2)\n",
    "    elif str(ops)=='-':\n",
    "        return num_1-num_2\n",
    "    elif str(ops)=='/':\n",
    "        return num_1/num_2\n",
    "    elif str(ops)=='*':\n",
    "        return num_1*num_2\n",
    "\n",
    "hasil = basic_calc(float(input('input first number: ')), input('input math operation: '), float(input('input second number: ')))\n",
    "print(hasil)"
   ]
  },
  {
   "cell_type": "code",
   "execution_count": null,
   "metadata": {},
   "outputs": [],
   "source": [
    "def switch_to_o(word):\n",
    "    word.lower()\n",
    "    word = word.replace('a','o')\n",
    "    word = word.replace('i','o')\n",
    "    word = word.replace('u','o')\n",
    "    word = word.replace('e','o')\n",
    "    word = word.replace('o','o')\n",
    "    print(word)\n",
    "    \n",
    "switch_to_o('kuda')"
   ]
  },
  {
   "cell_type": "code",
   "execution_count": 2,
   "metadata": {},
   "outputs": [
    {
     "name": "stdout",
     "output_type": "stream",
     "text": [
      "Luas : 9\n",
      "9\n"
     ]
    }
   ],
   "source": [
    "def luas_persegi(sisi):\n",
    "    print('Luas :', sisi*sisi)\n",
    "def luas_persegi_return(sisi):\n",
    "    return sisi*sisi\n",
    "\n",
    "\n",
    "luas_persegi(3)\n",
    "print(luas_persegi_return(3))"
   ]
  },
  {
   "cell_type": "markdown",
   "metadata": {},
   "source": [
    "# 6.2 While Loops"
   ]
  },
  {
   "cell_type": "code",
   "execution_count": null,
   "metadata": {
    "scrolled": true
   },
   "outputs": [],
   "source": [
    "i = 1\n",
    "while i <= 20:\n",
    "    print(i)\n",
    "    i+=1"
   ]
  },
  {
   "cell_type": "markdown",
   "metadata": {},
   "source": [
    "## 6.2.1 Quiz"
   ]
  },
  {
   "cell_type": "code",
   "execution_count": 3,
   "metadata": {
    "scrolled": true
   },
   "outputs": [
    {
     "name": "stdout",
     "output_type": "stream",
     "text": [
      "1\n",
      "4\n",
      "9\n",
      "16\n",
      "25\n",
      "36\n",
      "49\n",
      "64\n",
      "81\n",
      "100\n"
     ]
    }
   ],
   "source": [
    "x = [1, 2, 3, 4, 5, 6, 7, 8, 9, 10]\n",
    "i = 0\n",
    "while i <= len(x)-1:\n",
    "    print(x[i]**2)\n",
    "    i += 1"
   ]
  },
  {
   "cell_type": "code",
   "execution_count": 11,
   "metadata": {},
   "outputs": [
    {
     "name": "stdout",
     "output_type": "stream",
     "text": [
      "input your password: 213123123\n",
      "Password Incorrect\n",
      "reinput your password: 12312312\n",
      "Password Incorrect\n",
      "reinput your password: 1231231\n",
      "Password Incorrect\n",
      "reinput your password: 123123213\n"
     ]
    }
   ],
   "source": [
    "password = '12345'\n",
    "password_bool = False\n",
    "input_password = input('input your password: ')\n",
    "attempt = 1\n",
    "while attempt != 4:\n",
    "    if input_password != password:\n",
    "        print('Password Incorrect')\n",
    "        input_password = input('reinput your password: ')\n",
    "        attempt += 1\n",
    "    else:\n",
    "        print('Password correct!')\n",
    "        break"
   ]
  },
  {
   "cell_type": "code",
   "execution_count": null,
   "metadata": {
    "scrolled": true
   },
   "outputs": [],
   "source": [
    "import random\n",
    "tutor = 'ridho nadia rohim andra medi farid vincent'\n",
    "tutor_list = tutor.split()\n",
    "tutor_dict = {'ridho':1, 'nadia':21, 'rohim':11, 'andra':3, 'medi':18, 'farid':7, 'vincent': 13}\n",
    "taken = [1, 21, 11, 3, 18, 7, 13]\n",
    "absen_murid = [1, 2, 3, 4, 5, 6, 7, 8, 9, 10, 11, 12, 13, 14, 15, 16, 17, 18, 19, 20, 21, 22, 23, 24, 25, 26, 27]\n",
    "len_dif = 20\n",
    "while len_dif > 2:\n",
    "    for name in tutor_list:\n",
    "        student_list = []\n",
    "        while len(student_list) < 3:\n",
    "            x = random.choice(absen_murid)\n",
    "            if x in tutor_dict.values():\n",
    "                x = random.choice(absen_murid)\n",
    "            elif x in taken:\n",
    "                x = random.choice(absen_murid)\n",
    "            else:\n",
    "                taken.append(x)\n",
    "                student_list.append(x)\n",
    "        print(f'Tutor {name} adalah {student_list}')\n",
    "        print(len_dif)\n",
    "        print(absen_murid)\n",
    "        print(taken)\n",
    "    len_dif = len(absen_murid) - len(taken)\n",
    "else:\n",
    "    set_absen = set(absen_murid)\n",
    "    set_taken = set(taken)\n",
    "    diff = set_absen-set_taken \n",
    "    diff_list = list(diff)\n",
    "    print(f'Tutor {name[-1]} adalah {diff_list}')"
   ]
  },
  {
   "cell_type": "code",
   "execution_count": null,
   "metadata": {},
   "outputs": [],
   "source": [
    "list_baru =[]\n",
    "list_lama = [1,2,3,4,5]\n",
    "while len(list_baru) < 5:\n",
    "    x = random.choice(list_lama)\n",
    "    list_lama = list_lama.pop(x)"
   ]
  },
  {
   "cell_type": "code",
   "execution_count": 13,
   "metadata": {},
   "outputs": [],
   "source": [
    "x = 4"
   ]
  },
  {
   "cell_type": "code",
   "execution_count": 10,
   "metadata": {},
   "outputs": [
    {
     "data": {
      "text/plain": [
       "4"
      ]
     },
     "execution_count": 10,
     "metadata": {},
     "output_type": "execute_result"
    }
   ],
   "source": [
    "x"
   ]
  },
  {
   "cell_type": "code",
   "execution_count": 11,
   "metadata": {},
   "outputs": [],
   "source": [
    "x = 5"
   ]
  },
  {
   "cell_type": "code",
   "execution_count": 14,
   "metadata": {},
   "outputs": [
    {
     "data": {
      "text/plain": [
       "4"
      ]
     },
     "execution_count": 14,
     "metadata": {},
     "output_type": "execute_result"
    }
   ],
   "source": [
    "x"
   ]
  },
  {
   "cell_type": "code",
   "execution_count": 22,
   "metadata": {},
   "outputs": [
    {
     "name": "stdout",
     "output_type": "stream",
     "text": [
      " cobacoba \n",
      "cobacoba\n"
     ]
    }
   ],
   "source": [
    "a = ' cobacoba '\n",
    "# a.strip()\n",
    "print(a)\n",
    "print(a.strip())"
   ]
  }
 ],
 "metadata": {
  "kernelspec": {
   "display_name": "Python 3",
   "language": "python",
   "name": "python3"
  },
  "language_info": {
   "codemirror_mode": {
    "name": "ipython",
    "version": 3
   },
   "file_extension": ".py",
   "mimetype": "text/x-python",
   "name": "python",
   "nbconvert_exporter": "python",
   "pygments_lexer": "ipython3",
   "version": "3.7.4"
  }
 },
 "nbformat": 4,
 "nbformat_minor": 2
}
