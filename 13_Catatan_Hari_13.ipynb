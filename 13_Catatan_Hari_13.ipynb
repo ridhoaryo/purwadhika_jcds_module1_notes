{
 "cells": [
  {
   "cell_type": "markdown",
   "metadata": {},
   "source": [
    "# 13.1 How to open data using `open`"
   ]
  },
  {
   "cell_type": "code",
   "execution_count": 20,
   "metadata": {},
   "outputs": [],
   "source": [
    "data = open('contoh_aja.txt', 'r') # r maksudnya hanya read"
   ]
  },
  {
   "cell_type": "code",
   "execution_count": 11,
   "metadata": {
    "scrolled": true
   },
   "outputs": [],
   "source": [
    "# print(data.readable())"
   ]
  },
  {
   "cell_type": "code",
   "execution_count": 9,
   "metadata": {},
   "outputs": [],
   "source": [
    "# print(data.read())"
   ]
  },
  {
   "cell_type": "code",
   "execution_count": 14,
   "metadata": {},
   "outputs": [
    {
     "name": "stdout",
     "output_type": "stream",
     "text": [
      "['contoh aja\\n', 'hello world\\n', 'Python']\n"
     ]
    }
   ],
   "source": [
    "print(data.readlines())"
   ]
  },
  {
   "cell_type": "code",
   "execution_count": 24,
   "metadata": {},
   "outputs": [],
   "source": [
    "data = open('contoh_aja.txt', 'r') #w maksudnya hanya write"
   ]
  },
  {
   "cell_type": "code",
   "execution_count": 25,
   "metadata": {},
   "outputs": [
    {
     "data": {
      "text/plain": [
       "'tes 1 2 3'"
      ]
     },
     "execution_count": 25,
     "metadata": {},
     "output_type": "execute_result"
    }
   ],
   "source": [
    "data.read()"
   ]
  },
  {
   "cell_type": "code",
   "execution_count": 26,
   "metadata": {},
   "outputs": [
    {
     "ename": "AttributeError",
     "evalue": "'_io.TextIOWrapper' object has no attribute 'save'",
     "output_type": "error",
     "traceback": [
      "\u001b[1;31m---------------------------------------------------------------------------\u001b[0m",
      "\u001b[1;31mAttributeError\u001b[0m                            Traceback (most recent call last)",
      "\u001b[1;32m<ipython-input-26-46bbca43e279>\u001b[0m in \u001b[0;36m<module>\u001b[1;34m\u001b[0m\n\u001b[1;32m----> 1\u001b[1;33m \u001b[0mdata\u001b[0m\u001b[1;33m.\u001b[0m\u001b[0msave\u001b[0m\u001b[1;33m(\u001b[0m\u001b[1;33m)\u001b[0m\u001b[1;33m\u001b[0m\u001b[1;33m\u001b[0m\u001b[0m\n\u001b[0m",
      "\u001b[1;31mAttributeError\u001b[0m: '_io.TextIOWrapper' object has no attribute 'save'"
     ]
    }
   ],
   "source": [
    "data.save()"
   ]
  },
  {
   "cell_type": "code",
   "execution_count": 27,
   "metadata": {},
   "outputs": [
    {
     "data": {
      "text/plain": [
       "['caca', 'budi', 'andi']"
      ]
     },
     "execution_count": 27,
     "metadata": {},
     "output_type": "execute_result"
    }
   ],
   "source": [
    "abc = ['andi', 'budi', 'caca']\n",
    "abc.sort(reverse=True)\n",
    "abc"
   ]
  },
  {
   "cell_type": "code",
   "execution_count": 25,
   "metadata": {
    "scrolled": true
   },
   "outputs": [
    {
     "name": "stdout",
     "output_type": "stream",
     "text": [
      "Masukkan angka : 0\n",
      "\n"
     ]
    }
   ],
   "source": [
    "romanDict = {\n",
    "    'M' : 1000,\n",
    "    'CM': 900,\n",
    "    'D' : 500,\n",
    "    'CD': 400,\n",
    "    'C' : 100,\n",
    "    'XC': 90,\n",
    "    'L' : 50,\n",
    "    'XL': 40,\n",
    "    'X' : 10,\n",
    "    'IX': 9,\n",
    "    'V' : 5,\n",
    "    'IV': 4,\n",
    "    'I' : 1\n",
    "}\n",
    "\n",
    "def romanNum(param):\n",
    "    newString = ''\n",
    "    while param >= 1:\n",
    "        for i in list(romanDict.values()):\n",
    "            how_many = int(param/i)\n",
    "            roman_keys = list(romanDict.keys())\n",
    "            roman_values = list(romanDict.values())\n",
    "            \n",
    "            newString += how_many * roman_keys[roman_values.index(i)]\n",
    "            param = param % i\n",
    "    \n",
    "    print(newString)\n",
    "\n",
    "romanNum(int(input('Masukkan angka : ')))"
   ]
  },
  {
   "cell_type": "code",
   "execution_count": 21,
   "metadata": {},
   "outputs": [
    {
     "data": {
      "text/plain": [
       "0"
      ]
     },
     "execution_count": 21,
     "metadata": {},
     "output_type": "execute_result"
    }
   ],
   "source": [
    "3000%1000"
   ]
  }
 ],
 "metadata": {
  "kernelspec": {
   "display_name": "Python 3",
   "language": "python",
   "name": "python3"
  },
  "language_info": {
   "codemirror_mode": {
    "name": "ipython",
    "version": 3
   },
   "file_extension": ".py",
   "mimetype": "text/x-python",
   "name": "python",
   "nbconvert_exporter": "python",
   "pygments_lexer": "ipython3",
   "version": "3.7.4"
  }
 },
 "nbformat": 4,
 "nbformat_minor": 2
}
