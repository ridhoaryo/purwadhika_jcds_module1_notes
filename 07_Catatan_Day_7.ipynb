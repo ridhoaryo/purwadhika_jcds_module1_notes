{
 "cells": [
  {
   "cell_type": "markdown",
   "metadata": {},
   "source": [
    "# 7.1 `for` loops"
   ]
  },
  {
   "cell_type": "code",
   "execution_count": 4,
   "metadata": {
    "scrolled": true
   },
   "outputs": [
    {
     "name": "stdout",
     "output_type": "stream",
     "text": [
      "Jakarta\n",
      "Bandung\n",
      "Surabaya\n"
     ]
    }
   ],
   "source": [
    "# contoh menggunakan while loop\n",
    "cities = ['Jakarta', 'Bandung', 'Surabaya']\n",
    "i = 0\n",
    "while i < len(cities):\n",
    "    print(cities[i])\n",
    "    i += 1"
   ]
  },
  {
   "cell_type": "code",
   "execution_count": 5,
   "metadata": {
    "scrolled": true
   },
   "outputs": [
    {
     "name": "stdout",
     "output_type": "stream",
     "text": [
      "Jakarta\n",
      "Bandung\n",
      "Surabaya\n"
     ]
    }
   ],
   "source": [
    "for city in cities:\n",
    "    print(city)"
   ]
  },
  {
   "cell_type": "code",
   "execution_count": 6,
   "metadata": {
    "scrolled": false
   },
   "outputs": [
    {
     "name": "stdout",
     "output_type": "stream",
     "text": [
      "0\n",
      "2\n",
      "4\n",
      "6\n",
      "8\n"
     ]
    }
   ],
   "source": [
    "for i in range(0,10,2):\n",
    "    print(i)"
   ]
  },
  {
   "cell_type": "markdown",
   "metadata": {},
   "source": [
    "## 7.1.1 Using `else`"
   ]
  },
  {
   "cell_type": "code",
   "execution_count": 7,
   "metadata": {
    "scrolled": true
   },
   "outputs": [
    {
     "name": "stdout",
     "output_type": "stream",
     "text": [
      "0\n",
      "4\n",
      "8\n",
      "ok\n"
     ]
    }
   ],
   "source": [
    "for i in range(0,10,4):\n",
    "    print(i)\n",
    "else:\n",
    "    print('ok')"
   ]
  },
  {
   "cell_type": "markdown",
   "metadata": {},
   "source": [
    "## 7.1.2 Using `break`"
   ]
  },
  {
   "cell_type": "code",
   "execution_count": 9,
   "metadata": {
    "scrolled": true
   },
   "outputs": [
    {
     "name": "stdout",
     "output_type": "stream",
     "text": [
      "0\n",
      "1\n",
      "2\n",
      "3\n"
     ]
    }
   ],
   "source": [
    "for i in range(0,5):\n",
    "    print(i)\n",
    "    if i == 3:\n",
    "        break"
   ]
  },
  {
   "cell_type": "code",
   "execution_count": 10,
   "metadata": {
    "scrolled": true
   },
   "outputs": [
    {
     "name": "stdout",
     "output_type": "stream",
     "text": [
      "0\n",
      "1\n",
      "2\n"
     ]
    }
   ],
   "source": [
    "for i in range(0,5):\n",
    "    if i == 3:\n",
    "        break\n",
    "    print(i)"
   ]
  },
  {
   "cell_type": "markdown",
   "metadata": {},
   "source": [
    "## 7.1.3 Using `continue`"
   ]
  },
  {
   "cell_type": "code",
   "execution_count": 11,
   "metadata": {
    "scrolled": true
   },
   "outputs": [
    {
     "name": "stdout",
     "output_type": "stream",
     "text": [
      "0\n",
      "1\n",
      "2\n",
      "4\n"
     ]
    }
   ],
   "source": [
    "for i in range(0,5):\n",
    "    if i == 3:\n",
    "        continue\n",
    "    print(i)"
   ]
  },
  {
   "cell_type": "markdown",
   "metadata": {},
   "source": [
    "## 7.1.4 Quiz: Genap? Wow!"
   ]
  },
  {
   "cell_type": "code",
   "execution_count": 13,
   "metadata": {
    "scrolled": true
   },
   "outputs": [
    {
     "name": "stdout",
     "output_type": "stream",
     "text": [
      "1\n",
      "Wow!\n",
      "3\n",
      "Wow!\n",
      "5\n",
      "Wow!\n",
      "7\n",
      "Wow!\n",
      "9\n",
      "Wow!\n"
     ]
    }
   ],
   "source": [
    "for i in range(1,11):\n",
    "    if i%2 == 0:\n",
    "        print('Wow!')\n",
    "    else:\n",
    "        print(i)"
   ]
  },
  {
   "cell_type": "markdown",
   "metadata": {},
   "source": [
    "## 7.1.5 Quiz: Fizzbuzz"
   ]
  },
  {
   "cell_type": "code",
   "execution_count": 25,
   "metadata": {},
   "outputs": [],
   "source": [
    "def fizzbuzz(a):\n",
    "    for i in range(1,a):\n",
    "        if (i%3 == 0) & (i%5 == 0):\n",
    "            print('FizzBuzz')\n",
    "        elif i%3 == 0:\n",
    "            print('Fizz')\n",
    "        elif i%5 == 0:\n",
    "            print('Buzz')\n",
    "        else:\n",
    "            print(i)"
   ]
  },
  {
   "cell_type": "code",
   "execution_count": 28,
   "metadata": {},
   "outputs": [
    {
     "name": "stdout",
     "output_type": "stream",
     "text": [
      "1\n",
      "2\n",
      "Fizz\n",
      "4\n",
      "Buzz\n",
      "Fizz\n",
      "7\n",
      "8\n",
      "Fizz\n",
      "Buzz\n",
      "11\n",
      "Fizz\n",
      "13\n",
      "14\n",
      "FizzBuzz\n",
      "16\n",
      "17\n",
      "Fizz\n",
      "19\n",
      "Buzz\n",
      "Fizz\n",
      "22\n",
      "23\n",
      "Fizz\n",
      "Buzz\n",
      "26\n",
      "Fizz\n",
      "28\n",
      "29\n",
      "FizzBuzz\n",
      "31\n",
      "32\n",
      "Fizz\n",
      "34\n",
      "Buzz\n",
      "Fizz\n",
      "37\n",
      "38\n",
      "Fizz\n",
      "Buzz\n",
      "41\n",
      "Fizz\n",
      "43\n",
      "44\n",
      "FizzBuzz\n",
      "46\n",
      "47\n",
      "Fizz\n",
      "49\n",
      "Buzz\n",
      "Fizz\n",
      "52\n",
      "53\n",
      "Fizz\n",
      "Buzz\n",
      "56\n",
      "Fizz\n",
      "58\n",
      "59\n",
      "FizzBuzz\n",
      "61\n",
      "62\n",
      "Fizz\n",
      "64\n",
      "Buzz\n",
      "Fizz\n",
      "67\n",
      "68\n",
      "Fizz\n",
      "Buzz\n",
      "71\n",
      "Fizz\n",
      "73\n",
      "74\n",
      "FizzBuzz\n",
      "76\n",
      "77\n",
      "Fizz\n",
      "79\n",
      "Buzz\n",
      "Fizz\n",
      "82\n",
      "83\n",
      "Fizz\n",
      "Buzz\n",
      "86\n",
      "Fizz\n",
      "88\n",
      "89\n",
      "FizzBuzz\n",
      "91\n",
      "92\n",
      "Fizz\n",
      "94\n",
      "Buzz\n",
      "Fizz\n",
      "97\n",
      "98\n",
      "Fizz\n",
      "Buzz\n",
      "101\n",
      "Fizz\n",
      "103\n",
      "104\n",
      "FizzBuzz\n",
      "106\n",
      "107\n",
      "Fizz\n",
      "109\n",
      "Buzz\n",
      "Fizz\n",
      "112\n",
      "113\n",
      "Fizz\n",
      "Buzz\n",
      "116\n",
      "Fizz\n",
      "118\n",
      "119\n",
      "FizzBuzz\n",
      "121\n",
      "122\n",
      "Fizz\n",
      "124\n",
      "Buzz\n",
      "Fizz\n",
      "127\n",
      "128\n",
      "Fizz\n",
      "Buzz\n",
      "131\n",
      "Fizz\n",
      "133\n",
      "134\n",
      "FizzBuzz\n",
      "136\n",
      "137\n",
      "Fizz\n",
      "139\n",
      "Buzz\n",
      "Fizz\n",
      "142\n",
      "143\n",
      "Fizz\n",
      "Buzz\n",
      "146\n",
      "Fizz\n",
      "148\n",
      "149\n"
     ]
    }
   ],
   "source": [
    "fizzbuzz(150)"
   ]
  },
  {
   "cell_type": "markdown",
   "metadata": {},
   "source": [
    "## 7.1.6 Quiz: Reversing using loops"
   ]
  },
  {
   "cell_type": "code",
   "execution_count": 2,
   "metadata": {
    "scrolled": true
   },
   "outputs": [
    {
     "data": {
      "text/plain": [
       "[7, 6, 5, 4, 3, 2, 1]"
      ]
     },
     "execution_count": 2,
     "metadata": {},
     "output_type": "execute_result"
    }
   ],
   "source": [
    "nums = [1,2,3,4,5,6,7]\n",
    "nums_reverse = []\n",
    "for i in range(1,len(nums)+1):\n",
    "    nums_reverse.append(nums[-i])\n",
    "nums_reverse"
   ]
  },
  {
   "cell_type": "markdown",
   "metadata": {},
   "source": [
    "Atau...."
   ]
  },
  {
   "cell_type": "code",
   "execution_count": 53,
   "metadata": {},
   "outputs": [
    {
     "data": {
      "text/plain": [
       "[7, 6, 5, 4, 3, 2, 1]"
      ]
     },
     "execution_count": 53,
     "metadata": {},
     "output_type": "execute_result"
    }
   ],
   "source": [
    "nums = [1,2,3,4,5,6,7]\n",
    "nums_reverse = []\n",
    "for i in range(len(nums)):\n",
    "    nums_reverse.insert(0, nums[i])\n",
    "nums_reverse"
   ]
  },
  {
   "cell_type": "markdown",
   "metadata": {},
   "source": [
    "## 7.1.7 Quiz: change to 'O' without replace"
   ]
  },
  {
   "cell_type": "code",
   "execution_count": 50,
   "metadata": {
    "scrolled": true
   },
   "outputs": [
    {
     "data": {
      "text/plain": [
       "'lontongo'"
      ]
     },
     "execution_count": 50,
     "metadata": {},
     "output_type": "execute_result"
    }
   ],
   "source": [
    "word = 'lintange'\n",
    "word2 = ''\n",
    "voc = list('aiueo')\n",
    "for c in word:\n",
    "    if c in voc:\n",
    "        word2 += 'o'\n",
    "    else:\n",
    "        word2 += c\n",
    "word2"
   ]
  },
  {
   "cell_type": "markdown",
   "metadata": {},
   "source": [
    "## 7.1.8 Quiz: Palindrome"
   ]
  },
  {
   "cell_type": "code",
   "execution_count": 79,
   "metadata": {
    "scrolled": true
   },
   "outputs": [
    {
     "name": "stdout",
     "output_type": "stream",
     "text": [
      "Is word 'malam' a palindrome? = True\n"
     ]
    }
   ],
   "source": [
    "kata = 'malam'\n",
    "len_kata = len(kata)\n",
    "is_palindrome = False\n",
    "for i in range(0,len_kata):\n",
    "    if kata[i] == kata[-i-1]:\n",
    "        is_palindrome = True\n",
    "    else:\n",
    "        is_palindrome = False\n",
    "        break\n",
    "print(f\"Is word '{kata}' a palindrome? = {is_palindrome}\")"
   ]
  },
  {
   "cell_type": "markdown",
   "metadata": {},
   "source": [
    "Atau..."
   ]
  },
  {
   "cell_type": "code",
   "execution_count": 80,
   "metadata": {},
   "outputs": [
    {
     "name": "stdout",
     "output_type": "stream",
     "text": [
      "Is word 'malam' a palindrome? = True\n"
     ]
    }
   ],
   "source": [
    "kata = 'malam'\n",
    "if kata == kata[::-1]:\n",
    "    is_palindrome = True\n",
    "else:\n",
    "    is_palindrome = False\n",
    "print(f\"Is word '{kata}' a palindrome? = {is_palindrome}\")"
   ]
  },
  {
   "cell_type": "markdown",
   "metadata": {},
   "source": [
    "## 7.1.9 Reversing level 2"
   ]
  },
  {
   "cell_type": "code",
   "execution_count": 11,
   "metadata": {},
   "outputs": [
    {
     "name": "stdout",
     "output_type": "stream",
     "text": [
      "masukkan kalimat: aku ridho lhoo\n",
      "uka ohdir oohl\n"
     ]
    }
   ],
   "source": [
    "# Hai aku Lintang\n",
    "# menjadi\n",
    "# iaH uka gnatniL\n",
    "\n",
    "def reverse_words(word):\n",
    "    sentence = word\n",
    "    sent_list = sentence.split()\n",
    "    sent_rev_list = []\n",
    "    for word in sent_list:\n",
    "        sent_rev_list.append(word[::-1])\n",
    "    sent_rev = ' '.join(sent_rev_list)\n",
    "    return sent_rev\n",
    "print(reverse_words(input('masukkan kalimat: ')))"
   ]
  },
  {
   "cell_type": "markdown",
   "metadata": {},
   "source": [
    "## 7.1.10 Morse"
   ]
  },
  {
   "cell_type": "code",
   "execution_count": 1,
   "metadata": {},
   "outputs": [
    {
     "name": "stdout",
     "output_type": "stream",
     "text": [
      "insert words: fitriana\n",
      "Sandi morse dari kata \"FITRIANA\" adalah .._. .. _ ._. .. ._ _. ._ \n"
     ]
    }
   ],
   "source": [
    "def morse_translator(word):\n",
    "    morse_dict = {\n",
    "        'a': '._',\n",
    "        'b': '_...',\n",
    "        'c': '_._.',\n",
    "        'd': '_..',\n",
    "        'e': '.',\n",
    "        'f': '.._.',\n",
    "        'g': '__.',\n",
    "        'h': '....',\n",
    "        'i': '..',\n",
    "        'j': '.___',\n",
    "        'k': '_._',\n",
    "        'l': '._..',\n",
    "        'm': '__',\n",
    "        'n': '_.',\n",
    "        'o': '___',\n",
    "        'p': '.__.',\n",
    "        'q': '__._',\n",
    "        'r': '._.',\n",
    "        's': '...',\n",
    "        't': '_',\n",
    "        'u': '.._',\n",
    "        'v': '.._',\n",
    "        'w': '.__',\n",
    "        'x': '_.._',\n",
    "        'y': '_.__',\n",
    "        'z': '__..',\n",
    "        ' ': '/'\n",
    "    }\n",
    "    kata_morse = word.lower()\n",
    "    morse_translate = ''\n",
    "    for c in kata_morse:\n",
    "        if c in morse_dict.keys():\n",
    "            morse_translate += morse_dict[c]+' '\n",
    "    return morse_translate\n",
    "\n",
    "words = input('insert words: ')\n",
    "result_morse = morse_translator(words)\n",
    "print(f'Sandi morse dari kata \"{words.upper()}\" adalah {result_morse}')"
   ]
  },
  {
   "cell_type": "markdown",
   "metadata": {},
   "source": [
    "## 7.1.11 Caesar Cipher (huruf maju 2)\n",
    "ridho = tkfjq"
   ]
  },
  {
   "cell_type": "code",
   "execution_count": 7,
   "metadata": {
    "scrolled": true
   },
   "outputs": [
    {
     "name": "stdout",
     "output_type": "stream",
     "text": [
      "masukkan kata: ridho\n",
      "bentuk Caesar Cipher dari kata \"RIDHO\" adalah \"TKFJQ\"\n"
     ]
    }
   ],
   "source": [
    "def caesar_cipher(word):\n",
    "    abjad = list('abcdefghijklmnopqrstuvwxyz')\n",
    "    kata_caesar = word.lower()\n",
    "    caesar_cipher_word = ''\n",
    "    for c in kata_caesar:\n",
    "        index = (abjad.index(c) + (2%len(abjad)))%len(abjad)\n",
    "        caesar_cipher_word += abjad[index]\n",
    "    return caesar_cipher_word\n",
    "\n",
    "kata_kata = input('masukkan kata: ')\n",
    "result_caesar = caesar_cipher(kata_kata)\n",
    "print(f'bentuk Caesar Cipher dari kata \"{kata_kata.upper()}\" adalah \"{result_caesar.upper()}\"')"
   ]
  },
  {
   "cell_type": "code",
   "execution_count": 2,
   "metadata": {},
   "outputs": [],
   "source": [
    "a = lambda x:x+1"
   ]
  },
  {
   "cell_type": "code",
   "execution_count": 4,
   "metadata": {},
   "outputs": [
    {
     "name": "stdout",
     "output_type": "stream",
     "text": [
      "2\n"
     ]
    }
   ],
   "source": [
    "print(a(1))"
   ]
  }
 ],
 "metadata": {
  "kernelspec": {
   "display_name": "Python 3",
   "language": "python",
   "name": "python3"
  },
  "language_info": {
   "codemirror_mode": {
    "name": "ipython",
    "version": 3
   },
   "file_extension": ".py",
   "mimetype": "text/x-python",
   "name": "python",
   "nbconvert_exporter": "python",
   "pygments_lexer": "ipython3",
   "version": "3.7.4"
  }
 },
 "nbformat": 4,
 "nbformat_minor": 2
}
