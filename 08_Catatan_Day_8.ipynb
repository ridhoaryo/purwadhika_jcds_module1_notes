{
 "cells": [
  {
   "cell_type": "markdown",
   "metadata": {},
   "source": [
    "# 8.1 Segitiga Siku Siku\n",
    "## 8.1.1 Common "
   ]
  },
  {
   "cell_type": "code",
   "execution_count": 4,
   "metadata": {
    "scrolled": true
   },
   "outputs": [
    {
     "name": "stdout",
     "output_type": "stream",
     "text": [
      " * \n",
      " *  * \n",
      " *  *  * \n",
      " *  *  *  * \n",
      " *  *  *  *  * \n"
     ]
    }
   ],
   "source": [
    "def segitiga_siku(x):\n",
    "    star = ''\n",
    "    for i in range(x):\n",
    "        star += ' * '\n",
    "        print(star)\n",
    "        \n",
    "segitiga_siku(5)"
   ]
  },
  {
   "cell_type": "markdown",
   "metadata": {},
   "source": [
    "## 8.1.2 Reverse"
   ]
  },
  {
   "cell_type": "code",
   "execution_count": 13,
   "metadata": {},
   "outputs": [
    {
     "name": "stdout",
     "output_type": "stream",
     "text": [
      " *  *  *  *  * \n",
      " *  *  *  * \n",
      " *  *  * \n",
      " *  * \n",
      " * \n",
      "\n"
     ]
    }
   ],
   "source": [
    "def segitiga_siku_reverse(x):\n",
    "    star = ''\n",
    "    for item in range(x, 0, -1):\n",
    "        for item1 in range(0,item):\n",
    "            star += ' * '\n",
    "        star += '\\n'\n",
    "    print(star)\n",
    "\n",
    "segitiga_siku_reverse(5)"
   ]
  },
  {
   "cell_type": "markdown",
   "metadata": {},
   "source": [
    "## 8.1.3 Kotlin Logo"
   ]
  },
  {
   "cell_type": "code",
   "execution_count": 15,
   "metadata": {},
   "outputs": [
    {
     "name": "stdout",
     "output_type": "stream",
     "text": [
      " *  *  *  *  *  *  * \n",
      " *  *  *  *  *  * \n",
      " *  *  *  *  * \n",
      " *  *  *  * \n",
      " *  *  * \n",
      " *  * \n",
      " * \n",
      " *  * \n",
      " *  *  * \n",
      " *  *  *  * \n",
      " *  *  *  *  * \n",
      " *  *  *  *  *  * \n",
      " *  *  *  *  *  *  * \n",
      "\n"
     ]
    }
   ],
   "source": [
    "def kotlin_logo(x):\n",
    "    star = ''\n",
    "    for item in range(x, 0, -1):\n",
    "        for item1 in range(0,item):\n",
    "            star += ' * '\n",
    "        star += '\\n'\n",
    "    for item in range(x-(x-1), x):\n",
    "        for item2 in range(0, item+1):\n",
    "            star += ' * '\n",
    "        star += '\\n'\n",
    "    print(star)\n",
    "\n",
    "kotlin_logo(7)"
   ]
  },
  {
   "cell_type": "markdown",
   "metadata": {},
   "source": [
    "## 8.1.4 Numbered"
   ]
  },
  {
   "cell_type": "code",
   "execution_count": 93,
   "metadata": {
    "scrolled": false
   },
   "outputs": [
    {
     "name": "stdout",
     "output_type": "stream",
     "text": [
      " 1 \n",
      " 1  2 \n",
      " 1  2  3 \n",
      " 1  2  3  4 \n",
      " 1  2  3  4  5 \n"
     ]
    }
   ],
   "source": [
    "segitiga = ''\n",
    "for i in range(1,6):\n",
    "    for ii in range(i, i+1):\n",
    "        segitiga += ' '+str(i)+' '\n",
    "        print(segitiga)"
   ]
  },
  {
   "cell_type": "code",
   "execution_count": 83,
   "metadata": {},
   "outputs": [
    {
     "name": "stdout",
     "output_type": "stream",
     "text": [
      " 1  2  3  4  5 \n",
      " 1  2  3  4 \n",
      " 1  2  3 \n",
      " 1  2 \n",
      " 1 \n",
      "\n"
     ]
    }
   ],
   "source": [
    "for i in range(6,0,-1):\n",
    "    segitiga_rev = ''\n",
    "    for ii in range(1, i):\n",
    "        segitiga_rev += ' ' + str(ii) + ' '\n",
    "    print(segitiga_rev)"
   ]
  },
  {
   "cell_type": "code",
   "execution_count": 42,
   "metadata": {
    "scrolled": false
   },
   "outputs": [
    {
     "name": "stdout",
     "output_type": "stream",
     "text": [
      " 5 \n",
      " 5  4 \n",
      " 5  4  3 \n",
      " 5  4  3  2 \n",
      " 5  4  3  2  1 \n"
     ]
    }
   ],
   "source": [
    "num_list = [1,2,3,4,5]\n",
    "num_list.reverse()\n",
    "segitiga = ''\n",
    "for i in num_list:\n",
    "    segitiga += ' '+str(i)+' '\n",
    "    print(segitiga)"
   ]
  },
  {
   "cell_type": "code",
   "execution_count": 96,
   "metadata": {},
   "outputs": [
    {
     "name": "stdout",
     "output_type": "stream",
     "text": [
      " 5  4  3  2  1 \n",
      " 5  4  3  2 \n",
      " 5  4  3 \n",
      " 5  4 \n",
      " 5 \n",
      "\n"
     ]
    }
   ],
   "source": [
    "for i in range(0,6):\n",
    "    segitiga_rev=''\n",
    "    for ii in range(5,i,-1):\n",
    "        segitiga_rev += ' '+str(ii)+' '\n",
    "    print(segitiga_rev)"
   ]
  },
  {
   "cell_type": "code",
   "execution_count": 131,
   "metadata": {
    "scrolled": true
   },
   "outputs": [
    {
     "name": "stdout",
     "output_type": "stream",
     "text": [
      "1 \n",
      "2 2 \n",
      "3 3 3 \n",
      "4 4 4 4 \n",
      "5 5 5 5 5 \n"
     ]
    }
   ],
   "source": [
    "for i in range(0,5):\n",
    "    print(((str(i+1))+' ')*(i+1))"
   ]
  },
  {
   "cell_type": "code",
   "execution_count": 134,
   "metadata": {
    "scrolled": true
   },
   "outputs": [
    {
     "name": "stdout",
     "output_type": "stream",
     "text": [
      "5 5 5 5 5 \n",
      "4 4 4 4 \n",
      "3 3 3 \n",
      "2 2 \n",
      "1 \n",
      "\n"
     ]
    }
   ],
   "source": [
    "segitiga_siku_angka_kebalik = ''\n",
    "for i in range(5,0,-1):\n",
    "    segitiga_siku_angka_kebalik += ((str(i)+' ')*i)\n",
    "    segitiga_siku_angka_kebalik += '\\n'\n",
    "print(segitiga_siku_angka_kebalik)"
   ]
  },
  {
   "cell_type": "markdown",
   "metadata": {},
   "source": [
    "# 8.2 Quiz: Pangkat tanpa `pow()` dan `**`"
   ]
  },
  {
   "cell_type": "code",
   "execution_count": 109,
   "metadata": {},
   "outputs": [
    {
     "name": "stdout",
     "output_type": "stream",
     "text": [
      "7776\n",
      "7776\n"
     ]
    }
   ],
   "source": [
    "def pangkat(x, y):\n",
    "    hasil_pangkat = x\n",
    "    for i in range(y-1):\n",
    "        hasil_pangkat *= x\n",
    "    return hasil_pangkat\n",
    "\n",
    "print(pangkat(6,5))\n",
    "print(pow(6,5))"
   ]
  },
  {
   "cell_type": "code",
   "execution_count": 111,
   "metadata": {},
   "outputs": [
    {
     "name": "stdout",
     "output_type": "stream",
     "text": [
      "6\n"
     ]
    }
   ],
   "source": [
    "def pangkat2(x, y):\n",
    "    hasil_pangkat = x\n",
    "    i = 0\n",
    "    while i < y-1:\n",
    "        hasil_pangkat *= x\n",
    "        i += 1\n",
    "    return hasil_pangkat\n",
    "\n",
    "print(pangkat2(6,1))"
   ]
  },
  {
   "cell_type": "code",
   "execution_count": 114,
   "metadata": {},
   "outputs": [
    {
     "name": "stdout",
     "output_type": "stream",
     "text": [
      "8\n"
     ]
    }
   ],
   "source": [
    "# menggunakan recursive function\n",
    "def pangkat3(x, y):\n",
    "    if y == 1:\n",
    "        return x\n",
    "    else:\n",
    "        return x * pangkat3(x, y-1)\n",
    "\n",
    "print(pangkat3(2,3))"
   ]
  },
  {
   "cell_type": "markdown",
   "metadata": {},
   "source": [
    "# 8.3 Pyramid"
   ]
  },
  {
   "cell_type": "markdown",
   "metadata": {},
   "source": [
    "## 8.3.1 Common"
   ]
  },
  {
   "cell_type": "code",
   "execution_count": 38,
   "metadata": {
    "scrolled": false
   },
   "outputs": [
    {
     "name": "stdout",
     "output_type": "stream",
     "text": [
      "                     *\n",
      "                   * * *\n",
      "                 * * * * *\n",
      "               * * * * * * *\n",
      "             * * * * * * * * *\n",
      "           * * * * * * * * * * *\n",
      "         * * * * * * * * * * * * *\n",
      "       * * * * * * * * * * * * * * *\n",
      "     * * * * * * * * * * * * * * * * *\n",
      "   * * * * * * * * * * * * * * * * * * *\n"
     ]
    }
   ],
   "source": [
    "b = 20\n",
    "for i in range(1,b,2):\n",
    "    print(' '*(b-i), ' *'*(i))"
   ]
  },
  {
   "cell_type": "markdown",
   "metadata": {},
   "source": [
    "## 8.3.2 Reverse"
   ]
  },
  {
   "cell_type": "code",
   "execution_count": 167,
   "metadata": {
    "scrolled": true
   },
   "outputs": [
    {
     "name": "stdout",
     "output_type": "stream",
     "text": [
      "   * * * * * * * * * * * * * * * * * * *\n",
      "     * * * * * * * * * * * * * * * * *\n",
      "       * * * * * * * * * * * * * * *\n",
      "         * * * * * * * * * * * * *\n",
      "           * * * * * * * * * * *\n",
      "             * * * * * * * * *\n",
      "               * * * * * * *\n",
      "                 * * * * *\n",
      "                   * * *\n",
      "                     *\n"
     ]
    }
   ],
   "source": [
    "b = 20\n",
    "for ii in range(b-1,0,-2):\n",
    "    print(' '*(b-ii), ' *'*(ii))"
   ]
  },
  {
   "cell_type": "markdown",
   "metadata": {},
   "source": [
    "## 8.3.3 Jam Pasir"
   ]
  },
  {
   "cell_type": "code",
   "execution_count": 177,
   "metadata": {},
   "outputs": [
    {
     "name": "stdout",
     "output_type": "stream",
     "text": [
      "   * * * * * * * * * * * * * * * * * * *\n",
      "     * * * * * * * * * * * * * * * * *\n",
      "       * * * * * * * * * * * * * * *\n",
      "         * * * * * * * * * * * * *\n",
      "           * * * * * * * * * * *\n",
      "             * * * * * * * * *\n",
      "               * * * * * * *\n",
      "                 * * * * *\n",
      "                   * * *\n",
      "                     *\n",
      "                   * * *\n",
      "                 * * * * *\n",
      "               * * * * * * *\n",
      "             * * * * * * * * *\n",
      "           * * * * * * * * * * *\n",
      "         * * * * * * * * * * * * *\n",
      "       * * * * * * * * * * * * * * *\n",
      "     * * * * * * * * * * * * * * * * *\n",
      "   * * * * * * * * * * * * * * * * * * *\n"
     ]
    }
   ],
   "source": [
    "b = 20\n",
    "a = 1\n",
    "for ii in range(b-1,0,-2):\n",
    "    print(' '*(b-ii), ' *'*(ii))\n",
    "for i in range(a+2,b+1,2):\n",
    "    print(' '*(b-i), ' *'*(i))"
   ]
  },
  {
   "cell_type": "markdown",
   "metadata": {},
   "source": [
    "# 8.4 Reverse Morse"
   ]
  },
  {
   "cell_type": "code",
   "execution_count": 11,
   "metadata": {
    "scrolled": true
   },
   "outputs": [
    {
     "name": "stdout",
     "output_type": "stream",
     "text": [
      "insert words (separate each morse with space if you want translate morse to alphabet): _.\n",
      "Kata dari sandi morse \"_.\" adalah \"n\"\n"
     ]
    }
   ],
   "source": [
    "def morse_translator(morse):\n",
    "    morse_dict = {\n",
    "        'a': '._',\n",
    "        'b': '_...',\n",
    "        'c': '_._.',\n",
    "        'd': '_..',\n",
    "        'e': '.',\n",
    "        'f': '.._.',\n",
    "        'g': '__.',\n",
    "        'h': '....',\n",
    "        'i': '..',\n",
    "        'j': '.___',\n",
    "        'k': '_._',\n",
    "        'l': '._..',\n",
    "        'm': '__',\n",
    "        'n': '_.',\n",
    "        'o': '___',\n",
    "        'p': '.__.',\n",
    "        'q': '__._',\n",
    "        'r': '._.',\n",
    "        's': '...',\n",
    "        't': '_',\n",
    "        'u': '.._',\n",
    "        'v': '.._',\n",
    "        'w': '.__',\n",
    "        'x': '_.._',\n",
    "        'y': '_.__',\n",
    "        'z': '__..',\n",
    "        ' ': '/'\n",
    "    }\n",
    "    morse_code = morse\n",
    "    if morse_code.isalpha():\n",
    "        morse_translate = ''\n",
    "        for c in morse_code:\n",
    "            if c in morse_dict.keys():\n",
    "                morse_translate += morse_dict[c]\n",
    "        return morse_translate\n",
    "    else:\n",
    "        morse_translate = []\n",
    "        morse_list = morse_code.split(' ')\n",
    "        for code in morse_list:\n",
    "            for c, m in morse_dict.items():\n",
    "                if code == m:\n",
    "                    morse_translate.append(c)\n",
    "        translate = ''.join(morse_translate)\n",
    "        return translate\n",
    "\n",
    "words = input('insert words (separate each morse with space if you want translate morse to alphabet): ')\n",
    "result_morse = morse_translator(words)\n",
    "print(f'Kata dari sandi morse \"{words.upper()}\" adalah \"{result_morse}\"')"
   ]
  },
  {
   "cell_type": "markdown",
   "metadata": {},
   "source": [
    "# 8.5 Reverse Caesar Cipher"
   ]
  },
  {
   "cell_type": "code",
   "execution_count": 1,
   "metadata": {},
   "outputs": [
    {
     "data": {
      "text/plain": [
       "False"
      ]
     },
     "execution_count": 1,
     "metadata": {},
     "output_type": "execute_result"
    }
   ],
   "source": [
    "coba = 'a.'\n",
    "coba.isalpha()"
   ]
  },
  {
   "cell_type": "markdown",
   "metadata": {},
   "source": [
    "# 8.6 Factorial"
   ]
  },
  {
   "cell_type": "code",
   "execution_count": 125,
   "metadata": {},
   "outputs": [
    {
     "name": "stdout",
     "output_type": "stream",
     "text": [
      "120\n"
     ]
    }
   ],
   "source": [
    "# using recursive\n",
    "def factorial(x):\n",
    "    if x == 1:\n",
    "        return x\n",
    "    elif x == 0:\n",
    "        return x+1\n",
    "    elif x < 0:\n",
    "        return 'Not definied'\n",
    "    else:\n",
    "        return x * factorial(x-1)\n",
    "\n",
    "print(factorial(5))"
   ]
  },
  {
   "cell_type": "code",
   "execution_count": 129,
   "metadata": {},
   "outputs": [
    {
     "name": "stdout",
     "output_type": "stream",
     "text": [
      "24\n"
     ]
    }
   ],
   "source": [
    "# using for loops\n",
    "def factorial2(x):\n",
    "    angka = 1\n",
    "    if x == 1:\n",
    "        return x\n",
    "    elif x == 0:\n",
    "        return x+1\n",
    "    elif x < 0:\n",
    "        return 'Not definied'\n",
    "    else:\n",
    "        for i in range(1, x+1):\n",
    "            angka *= i\n",
    "    return angka\n",
    "\n",
    "print(factorial2(4))"
   ]
  },
  {
   "cell_type": "code",
   "execution_count": 180,
   "metadata": {},
   "outputs": [
    {
     "name": "stdout",
     "output_type": "stream",
     "text": [
      "[0, 1]\n"
     ]
    }
   ],
   "source": [
    "print(list(range(0,2)))"
   ]
  }
 ],
 "metadata": {
  "kernelspec": {
   "display_name": "Python 3",
   "language": "python",
   "name": "python3"
  },
  "language_info": {
   "codemirror_mode": {
    "name": "ipython",
    "version": 3
   },
   "file_extension": ".py",
   "mimetype": "text/x-python",
   "name": "python",
   "nbconvert_exporter": "python",
   "pygments_lexer": "ipython3",
   "version": "3.7.4"
  }
 },
 "nbformat": 4,
 "nbformat_minor": 2
}
