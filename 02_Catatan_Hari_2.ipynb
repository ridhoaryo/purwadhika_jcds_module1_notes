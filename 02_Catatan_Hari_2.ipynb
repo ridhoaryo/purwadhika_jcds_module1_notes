{
 "cells": [
  {
   "cell_type": "markdown",
   "metadata": {},
   "source": [
    "# 2.1 Import math library"
   ]
  },
  {
   "cell_type": "code",
   "execution_count": 1,
   "metadata": {
    "scrolled": true
   },
   "outputs": [
    {
     "name": "stdout",
     "output_type": "stream",
     "text": [
      "3.141592653589793\n",
      "3\n",
      "4\n",
      "14.0\n",
      "6\n"
     ]
    }
   ],
   "source": [
    "import math\n",
    "\n",
    "print(math.pi)\n",
    "print(math.floor(3.9))\n",
    "print(math.ceil(3.1))\n",
    "print(math.sqrt(196))\n",
    "print(math.factorial(3))"
   ]
  },
  {
   "cell_type": "markdown",
   "metadata": {},
   "source": [
    "# 2.2 Slicing list"
   ]
  },
  {
   "cell_type": "code",
   "execution_count": 2,
   "metadata": {
    "scrolled": true
   },
   "outputs": [
    {
     "name": "stdout",
     "output_type": "stream",
     "text": [
      "a\n",
      "abcdefghij\n",
      "acegi\n",
      "acegikmoqsuwy\n",
      "acegikmoqsuwy\n"
     ]
    }
   ],
   "source": [
    "x = 'abcdefghijklmnopqrstuvwxyz'\n",
    "print(x[0])\n",
    "print(x[0:10])\n",
    "# x[start:stop:step]\n",
    "print(x[0:10:2])\n",
    "print(x[0:len(x):2])\n",
    "# atau bisa dengan\n",
    "print(x[::2])"
   ]
  },
  {
   "cell_type": "markdown",
   "metadata": {},
   "source": [
    "# 2.3 `list` methods"
   ]
  },
  {
   "cell_type": "code",
   "execution_count": 5,
   "metadata": {},
   "outputs": [
    {
     "name": "stdout",
     "output_type": "stream",
     "text": [
      "['senin', 'selasa', 'rabu', 'kamis', 'jumat', 'sabtu', 'ahad', 'senin2']\n",
      "['senin', 'selasa', 'rabu', 'kamis', 'senin3', 'jumat', 'sabtu', 'ahad', 'senin2']\n",
      "['senin', 'selasa', 'rabu', 'kamis', 'senin3', 'jumat', 'sabtu', 'ahad']\n",
      "['senin', 'selasa', 'rabu', 'kamis', 'senin3', 'jumat', 'sabtu']\n",
      "['jumat', 'kamis', 'rabu', 'sabtu', 'selasa', 'senin', 'senin3']\n",
      "['senin3', 'senin', 'selasa', 'sabtu', 'rabu', 'kamis', 'jumat']\n",
      "['senin3', 'senin', 'selasa', 'sabtu', 'rabu', 'kamis', 'jumat']\n",
      "[]\n"
     ]
    }
   ],
   "source": [
    "hari = ['senin', 'selasa', 'rabu', 'kamis', 'jumat', 'sabtu', 'ahad']\n",
    "hari.append('senin2') # memasukkan element di index paling belakang\n",
    "print(hari)\n",
    "hari.insert(4, 'senin3') # menyelipkan atau memasukkan element ke index tertentu\n",
    "print(hari)\n",
    "\n",
    "hari.remove('senin2') # menghapus element\n",
    "print(hari)\n",
    "hari.pop() # menghapus index terakhir atau menghapus index tertentu dengan memberi parameter index\n",
    "print(hari)\n",
    "\n",
    "hari.sort() # untuk mengurutkan sesuai abjad jika string, dan mengurutkan dari kecil ke besar jika int\n",
    "print(hari)\n",
    "hari.reverse() # untuk membalik urutan index\n",
    "print(hari)\n",
    "hari[::-1] # cara lain reverse()\n",
    "print(hari)\n",
    "\n",
    "hari.clear() # menghapus semua element dalam list\n",
    "print(hari)"
   ]
  },
  {
   "cell_type": "code",
   "execution_count": 2,
   "metadata": {
    "scrolled": true
   },
   "outputs": [
    {
     "name": "stdout",
     "output_type": "stream",
     "text": [
      "a\n",
      "abcdefghij\n",
      "acegi\n",
      "acegikmoqsuwy\n",
      "acegikmoqsuwy\n"
     ]
    }
   ],
   "source": [
    "x = 'abcdefghijklmnopqrstuvwxyz'\n",
    "print(x[0])\n",
    "print(x[0:10])\n",
    "# x[start:stop:step]\n",
    "print(x[0:10:2])\n",
    "print(x[0:len(x):2])\n",
    "# atau bisa dengan\n",
    "print(x[::2])"
   ]
  },
  {
   "cell_type": "markdown",
   "metadata": {},
   "source": [
    "# 2.4 Quiz\n",
    "## 2.4.1 Kuadrat"
   ]
  },
  {
   "cell_type": "code",
   "execution_count": 6,
   "metadata": {},
   "outputs": [
    {
     "name": "stdout",
     "output_type": "stream",
     "text": [
      "Masukkan angka: 4\n",
      "Kuadrat dari 4 adalah: 16\n"
     ]
    }
   ],
   "source": [
    "num = int(input('Masukkan angka: '))\n",
    "num_power = math.pow(num, 2)\n",
    "print('Kuadrat dari', num, 'adalah:', int(num_power))"
   ]
  },
  {
   "cell_type": "markdown",
   "metadata": {},
   "source": [
    "## 2.4.2 Convert days into Year, Month, Week and Day"
   ]
  },
  {
   "cell_type": "code",
   "execution_count": 7,
   "metadata": {
    "scrolled": true
   },
   "outputs": [
    {
     "name": "stdout",
     "output_type": "stream",
     "text": [
      "masukkan hari: 789\n",
      "789 hari sama dengan 2 tahun, 2 bulan, 1 minggu, 2 hari\n"
     ]
    }
   ],
   "source": [
    "days = int(input('masukkan hari: '))\n",
    "day_year = days//360\n",
    "sisa_hari = days%360\n",
    "day_month = sisa_hari//30\n",
    "sisa_hari = sisa_hari%30\n",
    "day_week = sisa_hari//7\n",
    "sisa_hari = sisa_hari%7\n",
    "day_day = sisa_hari\n",
    "print(f'{days} hari sama dengan {day_year} tahun, {day_month} bulan, {day_week} minggu, {day_day} hari')"
   ]
  },
  {
   "cell_type": "markdown",
   "metadata": {},
   "source": [
    "## 2.4.3 Age Ratio Andi and Budi"
   ]
  },
  {
   "cell_type": "code",
   "execution_count": 11,
   "metadata": {},
   "outputs": [
    {
     "name": "stdout",
     "output_type": "stream",
     "text": [
      "Usia Andi 2 tahun lagi = 16.0 \n",
      "Usia Budi 2 tahun lagi = 37.0\n"
     ]
    }
   ],
   "source": [
    "umur = 49\n",
    "andi_ratio = 4//2\n",
    "budi_ratio = 10//2\n",
    "\n",
    "usia_andi = (andi_ratio*(umur/(andi_ratio+budi_ratio)))+2\n",
    "usia_budi = (budi_ratio*(umur/(andi_ratio+budi_ratio)))+2\n",
    "print('Usia Andi 2 tahun lagi =', usia_andi, '\\n'+'Usia Budi 2 tahun lagi =', usia_budi)"
   ]
  },
  {
   "cell_type": "markdown",
   "metadata": {},
   "source": [
    "## 2.4.4 Kambing dan Ayam"
   ]
  },
  {
   "cell_type": "code",
   "execution_count": 10,
   "metadata": {
    "scrolled": true
   },
   "outputs": [
    {
     "name": "stdout",
     "output_type": "stream",
     "text": [
      "masukkan jumlah hewan: 13\n",
      "masukkan jumlah kaki hewan: 32\n",
      "nama hewan pertama adalah: ayam\n",
      "nama hewan kedua adalah: kambing\n",
      "masukkan kaki hewan #1: 2\n",
      "masukkan kaki hewan #2: 4\n",
      "hewan ayam ada: 10\n",
      "hewan kambing ada: 3\n"
     ]
    }
   ],
   "source": [
    "jumlah_hewan = int(input('masukkan jumlah hewan: ')) #13\n",
    "jumlah_kaki = int(input('masukkan jumlah kaki hewan: ')) #32\n",
    "nama_hewan_1 = (input('nama hewan pertama adalah: '))\n",
    "nama_hewan_2 = (input('nama hewan kedua adalah: '))\n",
    "kaki_hewan_1 = int(input('masukkan kaki hewan #1: ')) #2\n",
    "kaki_hewan_2 = int(input('masukkan kaki hewan #2: ')) #4\n",
    "\n",
    "hewan_2 = (jumlah_kaki-(kaki_hewan_1*jumlah_hewan))//kaki_hewan_1\n",
    "hewan_1 = jumlah_hewan - hewan_2\n",
    "\n",
    "print(f'hewan {nama_hewan_1} ada:', hewan_1)\n",
    "print(f'hewan {nama_hewan_2} ada:', hewan_2)"
   ]
  },
  {
   "cell_type": "markdown",
   "metadata": {},
   "source": [
    "## 2.4.5 Find a character"
   ]
  },
  {
   "cell_type": "code",
   "execution_count": 12,
   "metadata": {},
   "outputs": [
    {
     "name": "stdout",
     "output_type": "stream",
     "text": [
      "huruf 'a' ada 2\n"
     ]
    }
   ],
   "source": [
    "kata = \"Halo dunia\"\n",
    "cari = 'a'\n",
    "kata_replace = kata.lower().replace(cari, '')\n",
    "jmlCari = len(kata) - len(kata_replace)\n",
    "print(f'huruf \\'{cari}\\' ada {jmlCari}')"
   ]
  },
  {
   "cell_type": "markdown",
   "metadata": {},
   "source": [
    "## 2.4.6 100 days from now"
   ]
  },
  {
   "cell_type": "code",
   "execution_count": 16,
   "metadata": {
    "scrolled": true
   },
   "outputs": [
    {
     "name": "stdout",
     "output_type": "stream",
     "text": [
      "pilih hari: ahad\n",
      "berapa hari ke depan atau belakang(-)?: 1\n",
      "1\n",
      "Hari ke 1 jika hari ini hari ahad, adalah hari senin\n"
     ]
    }
   ],
   "source": [
    "hari = ['senin', 'selasa', 'rabu', 'kamis', 'jumat', 'sabtu', 'ahad']\n",
    "pilih_hari = input('pilih hari: ')\n",
    "hari_ke_depan = int(input('berapa hari ke depan atau belakang(-)?: '))\n",
    "\n",
    "now = hari.index(pilih_hari)\n",
    "seminggu = 7\n",
    "hasil = hari_ke_depan%seminggu\n",
    "print(hasil)\n",
    "hari_100 = hari[(now+hasil)%seminggu]\n",
    "print(f'Hari ke {hari_ke_depan} jika hari ini hari {hari[now]}, adalah hari {hari_100}')"
   ]
  },
  {
   "cell_type": "markdown",
   "metadata": {},
   "source": [
    "## 2.4.7 Age ratio Andi and Ayah"
   ]
  },
  {
   "cell_type": "code",
   "execution_count": 17,
   "metadata": {},
   "outputs": [
    {
     "name": "stdout",
     "output_type": "stream",
     "text": [
      "39.285714285714285\n",
      "10.714285714285715\n"
     ]
    }
   ],
   "source": [
    " jumlah_umur = 50\n",
    "ratio_andi = 1\n",
    "ratio_ayah = 6\n",
    "tahun_kebelakang = 5\n",
    "\n",
    "umur_ayah = (ratio_ayah*(jumlah_umur-tahun_kebelakang)+tahun_kebelakang)/(ratio_ayah+ratio_andi)\n",
    "umur_andi = jumlah_umur - umur_ayah\n",
    "print(umur_ayah)\n",
    "print(umur_andi)"
   ]
  }
 ],
 "metadata": {
  "kernelspec": {
   "display_name": "Python 3",
   "language": "python",
   "name": "python3"
  },
  "language_info": {
   "codemirror_mode": {
    "name": "ipython",
    "version": 3
   },
   "file_extension": ".py",
   "mimetype": "text/x-python",
   "name": "python",
   "nbconvert_exporter": "python",
   "pygments_lexer": "ipython3",
   "version": "3.7.4"
  }
 },
 "nbformat": 4,
 "nbformat_minor": 2
}
