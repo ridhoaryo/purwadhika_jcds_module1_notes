{
 "cells": [
  {
   "cell_type": "markdown",
   "metadata": {},
   "source": [
    "# 11.1 Review\n",
    "## 11.1.1 Inheritance"
   ]
  },
  {
   "cell_type": "code",
   "execution_count": 1,
   "metadata": {
    "scrolled": true
   },
   "outputs": [
    {
     "name": "stdout",
     "output_type": "stream",
     "text": [
      "{'nama': 'Ridho', 'janggut': True, 'kumis': True, 'kelamin': 'Laki-laki'}\n",
      "{'nama': 'Fita', 'rambut_panjang': True, 'kelamin': 'Perempuan'}\n"
     ]
    }
   ],
   "source": [
    "class Manusia:\n",
    "    def __init__(self, nama):\n",
    "        self.nama = nama\n",
    "        \n",
    "class Pria(Manusia):\n",
    "    def __init__(self, nama, janggut, kumis):\n",
    "        super().__init__(nama)\n",
    "        self.janggut = janggut\n",
    "        self.kumis = kumis\n",
    "        self.kelamin = 'Laki-laki'\n",
    "        \n",
    "class Wanita(Manusia):\n",
    "    def __init__(self, nama, rambut_panjang):\n",
    "        super().__init__(nama)\n",
    "        self.rambut_panjang = rambut_panjang\n",
    "        self.kelamin = 'Perempuan'\n",
    "    \n",
    "pria1 = Pria('Ridho', True, True)\n",
    "wanita1 = Wanita('Fita', True)\n",
    "print(vars(pria1))\n",
    "print(vars(wanita1))"
   ]
  },
  {
   "cell_type": "markdown",
   "metadata": {},
   "source": [
    "## 11.1.2 Multilevel Inheritance"
   ]
  },
  {
   "cell_type": "code",
   "execution_count": 2,
   "metadata": {},
   "outputs": [
    {
     "name": "stdout",
     "output_type": "stream",
     "text": [
      "{'mesin': 'Injection', 'roda': 4, 'pintu': 4, 'rangka': 'Sedan'}\n"
     ]
    }
   ],
   "source": [
    "class Kendaraan:\n",
    "    def __init__(self, mesin, roda):\n",
    "        self.mesin = mesin\n",
    "        self.roda = roda\n",
    "        \n",
    "class Mobil(Kendaraan):\n",
    "    def __init__(self, mesin, roda, pintu):\n",
    "        Kendaraan.__init__(self, mesin, roda)\n",
    "        self.mesin = mesin\n",
    "        self.roda = roda\n",
    "        self.pintu = pintu\n",
    "        \n",
    "class Sedan(Mobil):\n",
    "    def __init__(self, mesin, roda, pintu, rangka):\n",
    "        Mobil.__init__(self, mesin, roda, pintu)\n",
    "        self.mesin = mesin\n",
    "        self.roda = roda\n",
    "        self.pintu = pintu\n",
    "        self.rangka = rangka\n",
    "        \n",
    "bmw = Sedan('Injection', 4, 4, 'Sedan')\n",
    "print(vars(bmw))"
   ]
  },
  {
   "cell_type": "markdown",
   "metadata": {},
   "source": [
    "## 11.1.3 Multiple Inheritance"
   ]
  },
  {
   "cell_type": "code",
   "execution_count": 3,
   "metadata": {},
   "outputs": [
    {
     "name": "stdout",
     "output_type": "stream",
     "text": [
      "{'makan_daging': True, 'makan_tumbuhan': True, 'makan_mcd': True}\n"
     ]
    }
   ],
   "source": [
    "class Karnivora:\n",
    "    def __init__(self):\n",
    "        self.makan_daging = True\n",
    "        \n",
    "class Herbivora:\n",
    "    def __init__(self):\n",
    "        self.makan_tumbuhan = True\n",
    "        \n",
    "class Omnivora:\n",
    "    def __init__(self, makan_mcd):\n",
    "        Karnivora.__init__(self)\n",
    "        Herbivora.__init__(self)\n",
    "        self.makan_mcd = makan_mcd\n",
    "        \n",
    "manusia = Omnivora(True)\n",
    "print(vars(manusia))"
   ]
  },
  {
   "cell_type": "markdown",
   "metadata": {},
   "source": [
    "# 11.2 `Datetime`"
   ]
  },
  {
   "cell_type": "code",
   "execution_count": 4,
   "metadata": {},
   "outputs": [],
   "source": [
    "import datetime as dt"
   ]
  },
  {
   "cell_type": "code",
   "execution_count": 5,
   "metadata": {},
   "outputs": [
    {
     "name": "stdout",
     "output_type": "stream",
     "text": [
      "2019-11-06 13:34:55.318777\n"
     ]
    }
   ],
   "source": [
    "x = dt.datetime.now()\n",
    "print(x)"
   ]
  },
  {
   "cell_type": "code",
   "execution_count": 6,
   "metadata": {},
   "outputs": [
    {
     "name": "stdout",
     "output_type": "stream",
     "text": [
      "06\n",
      "11\n",
      "19\n",
      "Wednesday\n",
      "November\n",
      "\n",
      "\n",
      "13\n",
      "01\n",
      "PM\n",
      "34\n",
      "55\n"
     ]
    }
   ],
   "source": [
    "print(x.strftime('%d')) # --> tanggal\n",
    "print(x.strftime('%m')) # --> bulan\n",
    "print(x.strftime('%y')) # --> tahun\n",
    "print(x.strftime('%A')) # --> nama hari\n",
    "print(x.strftime('%B')) # --> nama bulan\n",
    "print('\\n')\n",
    "print(x.strftime('%H')) # --> 24 jam\n",
    "print(x.strftime('%I')) # --> 12 jam\n",
    "print(x.strftime('%p')) # --> am/pm\n",
    "print(x.strftime('%M')) # --> min\n",
    "print(x.strftime('%S')) # --> sec"
   ]
  },
  {
   "cell_type": "markdown",
   "metadata": {},
   "source": [
    "# 11.3 Quiz: Buat class untuk menerjemahkan hari dan bulan ke bahasa Indonesia"
   ]
  },
  {
   "cell_type": "code",
   "execution_count": 7,
   "metadata": {},
   "outputs": [
    {
     "name": "stdout",
     "output_type": "stream",
     "text": [
      "Rabu\n",
      "06\n",
      "Nopember\n",
      "2019\n",
      "13\n",
      "34\n",
      "55\n"
     ]
    }
   ],
   "source": [
    "class Waktu:\n",
    "    hari_bulan_dict = {\n",
    "        'Monday': 'Senin',\n",
    "        'Tuesday': 'Selasa',\n",
    "        'Wednesday': 'Rabu',\n",
    "        'Thursday': 'Kamis',\n",
    "        'Friday': 'Jumat',\n",
    "        'Saturday': 'Sabtu',\n",
    "        'Sunday': 'Minggu',\n",
    "        'January': 'Januari',\n",
    "        'February': 'Selasa',\n",
    "        'March': 'Rabu',\n",
    "        'April': 'Kamis',\n",
    "        'May': 'Jumat',\n",
    "        'June': 'Sabtu',\n",
    "        'July': 'Minggu',\n",
    "        'August': 'Agustus',\n",
    "        'September': 'September',\n",
    "        'October': 'Oktober',\n",
    "        'November': 'Nopember',\n",
    "        'December': 'Desember'\n",
    "    }\n",
    "    time = dt.datetime.now()\n",
    "    hari = hari_bulan_dict.get(time.strftime('%A'))\n",
    "    tanggal = time.strftime('%d')\n",
    "    bulan = hari_bulan_dict.get(time.strftime('%B'))\n",
    "    tahun = time.strftime('%Y')\n",
    "    jam = time.strftime('%H')\n",
    "    menit = time.strftime('%M')\n",
    "    detik = time.strftime('%S')\n",
    "\n",
    "waktu = Waktu()\n",
    "print(waktu.hari)\n",
    "print(waktu.tanggal)\n",
    "print(waktu.bulan)\n",
    "print(waktu.tahun)\n",
    "print(waktu.jam)\n",
    "print(waktu.menit)\n",
    "print(waktu.detik)"
   ]
  },
  {
   "cell_type": "markdown",
   "metadata": {},
   "source": [
    "Setelah berhasil membuat Class atau Object, copy paste coding ke vscode, lalu simpan dengan nama file `sekarang.py` dan masukkan dalam folder yang sama dengan jupyter notebook."
   ]
  },
  {
   "cell_type": "code",
   "execution_count": 8,
   "metadata": {},
   "outputs": [],
   "source": [
    "# import sekarang.py\n",
    "from sekarang import Waktu as saiki"
   ]
  },
  {
   "cell_type": "code",
   "execution_count": 9,
   "metadata": {},
   "outputs": [
    {
     "name": "stdout",
     "output_type": "stream",
     "text": [
      "Rabu\n",
      "Nopember\n"
     ]
    }
   ],
   "source": [
    "print(saiki.hari)\n",
    "print(saiki.bulan)"
   ]
  },
  {
   "cell_type": "code",
   "execution_count": 10,
   "metadata": {},
   "outputs": [
    {
     "name": "stdout",
     "output_type": "stream",
     "text": [
      "4.7272727272727275\n",
      "5\n",
      "5\n"
     ]
    }
   ],
   "source": [
    "class Statistic:\n",
    "    def get_mean(self, num_list):\n",
    "        hasil = 0\n",
    "        for i in num_list:\n",
    "            hasil += i\n",
    "        return hasil / len(num_list)\n",
    "    \n",
    "    def get_median(self, num_list):\n",
    "        num_list.sort()\n",
    "        middle = len(num_list) % 2\n",
    "        index_middle = len(num_list) // 2\n",
    "        if middle == 1:\n",
    "            return num_list[index_middle]\n",
    "        else:\n",
    "            return (num_list[index_middle-1]+num_list[index_middle])/2\n",
    "        \n",
    "    def get_modus(self, num_list):\n",
    "        hasil_jumlah = 0\n",
    "        angka = 0\n",
    "        for i in num_list:\n",
    "            jumlah_angka_saat_ini = num_list.count(i)\n",
    "            if hasil_jumlah > jumlah_angka_saat_ini:\n",
    "                continue\n",
    "            elif hasil_jumlah < jumlah_angka_saat_ini:\n",
    "                hasil_jumlah = jumlah_angka_saat_ini\n",
    "                angka = i\n",
    "        return angka\n",
    "        \n",
    "nl_test = [1,1,4,4,5,5,5,3,7,8,9]\n",
    "statistic = Statistic()\n",
    "print(statistic.get_mean(nl_test))\n",
    "print(statistic.get_median(nl_test))\n",
    "print(statistic.get_modus(nl_test))"
   ]
  },
  {
   "cell_type": "code",
   "execution_count": 11,
   "metadata": {},
   "outputs": [
    {
     "name": "stdout",
     "output_type": "stream",
     "text": [
      "5.0\n"
     ]
    }
   ],
   "source": [
    "def get_mean(num_list):\n",
    "    hasil = 0\n",
    "    for i in num_list:\n",
    "        hasil += i\n",
    "    return hasil / len(num_list)\n",
    "nl = [1,2,3,4,5,6,7,8,9]\n",
    "print(get_mean(nl))"
   ]
  },
  {
   "cell_type": "code",
   "execution_count": 20,
   "metadata": {},
   "outputs": [
    {
     "name": "stdout",
     "output_type": "stream",
     "text": [
      "2.5\n"
     ]
    }
   ],
   "source": [
    "def get_median(num_list):\n",
    "    num_list.sort()\n",
    "    mod = len(num_list) % 2\n",
    "    index_middle = len(num_list) // 2\n",
    "    if mod == 1:\n",
    "        return num_list[index_middle]\n",
    "    else:\n",
    "        return (num_list[index_middle-1]+num_list[index_middle])/2\n",
    "    \n",
    "nl_new = [1,2,3,4]\n",
    "print(get_median(nl_new))"
   ]
  },
  {
   "cell_type": "code",
   "execution_count": 26,
   "metadata": {},
   "outputs": [
    {
     "name": "stdout",
     "output_type": "stream",
     "text": [
      "5\n"
     ]
    }
   ],
   "source": [
    "def get_modus(num_list):\n",
    "    hasil_jumlah = 0\n",
    "    angka = 0\n",
    "    for i in num_list:\n",
    "        jumlah_saat_ini = num_list.count(i)\n",
    "        if hasil_jumlah > jumlah_saat_ini:\n",
    "            continue\n",
    "        elif hasil_jumlah < jumlah_saat_ini:\n",
    "            hasil_jumlah = jumlah_saat_ini\n",
    "            angka = i\n",
    "    return angka\n",
    "\n",
    "nl_new_new = [1,2,3,4,5,6,7,8,9,10,1,2,2,3,4,4,4,5,5,5,5]\n",
    "print(get_modus(nl_new_new))"
   ]
  },
  {
   "cell_type": "code",
   "execution_count": 14,
   "metadata": {},
   "outputs": [
    {
     "data": {
      "text/plain": [
       "2"
      ]
     },
     "execution_count": 14,
     "metadata": {},
     "output_type": "execute_result"
    }
   ],
   "source": [
    "nl_new = [1,2,3,4,5,6,7,8,9,10,1]\n",
    "nl_new.count(1)"
   ]
  },
  {
   "cell_type": "code",
   "execution_count": 15,
   "metadata": {},
   "outputs": [],
   "source": [
    "from statistik_module import stat as st"
   ]
  },
  {
   "cell_type": "code",
   "execution_count": 18,
   "metadata": {},
   "outputs": [
    {
     "name": "stdout",
     "output_type": "stream",
     "text": [
      "4.411764705882353\n",
      "4\n",
      "4\n"
     ]
    }
   ],
   "source": [
    "print(st.get_mean(nl_new_new))\n",
    "print(st.get_median(nl_new_new))\n",
    "print(st.get_modus(nl_new_new))"
   ]
  },
  {
   "cell_type": "code",
   "execution_count": 28,
   "metadata": {},
   "outputs": [
    {
     "data": {
      "text/plain": [
       "15"
      ]
     },
     "execution_count": 28,
     "metadata": {},
     "output_type": "execute_result"
    }
   ],
   "source": [
    "list = [1,2,3,4,5]\n",
    "sum(list)"
   ]
  }
 ],
 "metadata": {
  "kernelspec": {
   "display_name": "Python 3",
   "language": "python",
   "name": "python3"
  },
  "language_info": {
   "codemirror_mode": {
    "name": "ipython",
    "version": 3
   },
   "file_extension": ".py",
   "mimetype": "text/x-python",
   "name": "python",
   "nbconvert_exporter": "python",
   "pygments_lexer": "ipython3",
   "version": "3.7.4"
  }
 },
 "nbformat": 4,
 "nbformat_minor": 4
}
