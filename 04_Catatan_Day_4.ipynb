{
 "cells": [
  {
   "cell_type": "markdown",
   "metadata": {},
   "source": [
    "# Catatan Day 4\n",
    "\n",
    "## 4.1 List"
   ]
  },
  {
   "cell_type": "code",
   "execution_count": 1,
   "metadata": {},
   "outputs": [
    {
     "name": "stdout",
     "output_type": "stream",
     "text": [
      "[(1, ['a', 'b', 'c'], 3), (4, 5, 6)]\n"
     ]
    }
   ],
   "source": [
    "x = [\n",
    "    (1,['a','b','c'], 3),\n",
    "    (4,5,6)\n",
    "]\n",
    "print(x)"
   ]
  },
  {
   "cell_type": "code",
   "execution_count": 2,
   "metadata": {
    "scrolled": true
   },
   "outputs": [
    {
     "name": "stdout",
     "output_type": "stream",
     "text": [
      "[(1, ['a', 'b', 'Andi'], 3), (4, 5, 6)]\n"
     ]
    }
   ],
   "source": [
    "# bisa mengganti element dalam list yang terdapat dalam tuple\n",
    "x = [\n",
    "    (1,['a','b','c'], 3),\n",
    "    (4,5,6)\n",
    "]\n",
    "x[0][1][2] = 'Andi' \n",
    "print(x)"
   ]
  },
  {
   "cell_type": "code",
   "execution_count": 3,
   "metadata": {},
   "outputs": [
    {
     "name": "stdout",
     "output_type": "stream",
     "text": [
      "[(1, ['a', 'b', 'Andi', 'd'], 3), (4, 5, 6)]\n"
     ]
    }
   ],
   "source": [
    "x = [\n",
    "    (1,['a','b','c'], 3),\n",
    "    (4,5,6)\n",
    "]\n",
    "x[0][1][2] = 'Andi'\n",
    "x[0][1].append('d')\n",
    "print(x)"
   ]
  },
  {
   "cell_type": "code",
   "execution_count": 4,
   "metadata": {},
   "outputs": [
    {
     "name": "stdout",
     "output_type": "stream",
     "text": [
      "((1, ['a', 'b', 'Budi', 'd'], 3), (4, 5, 6))\n"
     ]
    }
   ],
   "source": [
    "x = [\n",
    "    (1,['a','b','c'], 3),\n",
    "    (4,5,6)\n",
    "]\n",
    "x[0][1][2] = 'Andi'\n",
    "x[0][1].append('d')\n",
    "\n",
    "x=tuple(x)\n",
    "x[0][1][2] = 'Budi'\n",
    "print(x)"
   ]
  },
  {
   "cell_type": "markdown",
   "metadata": {},
   "source": [
    "## 4.2 Set"
   ]
  },
  {
   "cell_type": "code",
   "execution_count": 5,
   "metadata": {},
   "outputs": [
    {
     "name": "stdout",
     "output_type": "stream",
     "text": [
      "<class 'set'>\n"
     ]
    }
   ],
   "source": [
    "z = {1, 2, 3, 1, 2, 3}\n",
    "print(type(z))\n",
    "# set tidak memilik index"
   ]
  },
  {
   "cell_type": "code",
   "execution_count": 6,
   "metadata": {},
   "outputs": [
    {
     "name": "stdout",
     "output_type": "stream",
     "text": [
      "{1, 2, 3}\n"
     ]
    }
   ],
   "source": [
    "# set tidak menampilkan element yang terduplicate\n",
    "print(z)"
   ]
  },
  {
   "cell_type": "code",
   "execution_count": 7,
   "metadata": {},
   "outputs": [
    {
     "name": "stdout",
     "output_type": "stream",
     "text": [
      "[1, 2, 3]\n"
     ]
    }
   ],
   "source": [
    "# walaupun sudah diubah menjadi list, element yang terduplicate tetap tidak ditampilkan\n",
    "print(list(z))"
   ]
  },
  {
   "cell_type": "markdown",
   "metadata": {},
   "source": [
    "### 4.2.1 `add()`"
   ]
  },
  {
   "cell_type": "code",
   "execution_count": 8,
   "metadata": {},
   "outputs": [
    {
     "name": "stdout",
     "output_type": "stream",
     "text": [
      "{1, 2, 3, 'a', ('c', 'd', 'e')}\n"
     ]
    }
   ],
   "source": [
    "# menambahkan satu element\n",
    "z.add('a')\n",
    "z.add(('c', 'd', 'e'))\n",
    "print(z)"
   ]
  },
  {
   "cell_type": "code",
   "execution_count": 9,
   "metadata": {
    "scrolled": false
   },
   "outputs": [
    {
     "ename": "TypeError",
     "evalue": "unhashable type: 'list'",
     "output_type": "error",
     "traceback": [
      "\u001b[1;31m---------------------------------------------------------------------------\u001b[0m",
      "\u001b[1;31mTypeError\u001b[0m                                 Traceback (most recent call last)",
      "\u001b[1;32m<ipython-input-9-804342938862>\u001b[0m in \u001b[0;36m<module>\u001b[1;34m\u001b[0m\n\u001b[0;32m      1\u001b[0m \u001b[1;31m# set hanya bisa menambahkan immutable value\u001b[0m\u001b[1;33m\u001b[0m\u001b[1;33m\u001b[0m\u001b[1;33m\u001b[0m\u001b[0m\n\u001b[1;32m----> 2\u001b[1;33m \u001b[0mz\u001b[0m\u001b[1;33m.\u001b[0m\u001b[0madd\u001b[0m\u001b[1;33m(\u001b[0m\u001b[1;33m[\u001b[0m\u001b[1;36m1\u001b[0m\u001b[1;33m,\u001b[0m\u001b[1;36m2\u001b[0m\u001b[1;33m,\u001b[0m\u001b[1;36m3\u001b[0m\u001b[1;33m]\u001b[0m\u001b[1;33m)\u001b[0m\u001b[1;33m\u001b[0m\u001b[1;33m\u001b[0m\u001b[0m\n\u001b[0m\u001b[0;32m      3\u001b[0m \u001b[0mprint\u001b[0m\u001b[1;33m(\u001b[0m\u001b[0mz\u001b[0m\u001b[1;33m)\u001b[0m\u001b[1;33m\u001b[0m\u001b[1;33m\u001b[0m\u001b[0m\n\u001b[0;32m      4\u001b[0m \u001b[1;31m# maka akan error. karena list adalah mutable\u001b[0m\u001b[1;33m\u001b[0m\u001b[1;33m\u001b[0m\u001b[1;33m\u001b[0m\u001b[0m\n",
      "\u001b[1;31mTypeError\u001b[0m: unhashable type: 'list'"
     ]
    }
   ],
   "source": [
    "# set hanya bisa menambahkan immutable value\n",
    "z.add([1,2,3])\n",
    "print(z)\n",
    "# maka akan error. karena list adalah mutable"
   ]
  },
  {
   "cell_type": "markdown",
   "metadata": {},
   "source": [
    "### 4.2.2 `update()`"
   ]
  },
  {
   "cell_type": "code",
   "execution_count": 10,
   "metadata": {
    "scrolled": true
   },
   "outputs": [
    {
     "ename": "TypeError",
     "evalue": "'int' object is not iterable",
     "output_type": "error",
     "traceback": [
      "\u001b[1;31m---------------------------------------------------------------------------\u001b[0m",
      "\u001b[1;31mTypeError\u001b[0m                                 Traceback (most recent call last)",
      "\u001b[1;32m<ipython-input-10-a708c75feb48>\u001b[0m in \u001b[0;36m<module>\u001b[1;34m\u001b[0m\n\u001b[0;32m      1\u001b[0m \u001b[1;31m# menambahkan element bisa dengan method update(). Tapi harus lebih dari satu char atau angka atau berupa list agar bisa dipecah\u001b[0m\u001b[1;33m\u001b[0m\u001b[1;33m\u001b[0m\u001b[1;33m\u001b[0m\u001b[0m\n\u001b[1;32m----> 2\u001b[1;33m \u001b[0mz\u001b[0m\u001b[1;33m.\u001b[0m\u001b[0mupdate\u001b[0m\u001b[1;33m(\u001b[0m\u001b[1;36m1\u001b[0m\u001b[1;33m)\u001b[0m \u001b[1;31m# ini akan error\u001b[0m\u001b[1;33m\u001b[0m\u001b[1;33m\u001b[0m\u001b[0m\n\u001b[0m",
      "\u001b[1;31mTypeError\u001b[0m: 'int' object is not iterable"
     ]
    }
   ],
   "source": [
    "# menambahkan element bisa dengan method update(). Tapi harus lebih dari satu char atau angka atau berupa list agar bisa dipecah\n",
    "z.update(1) # ini akan error"
   ]
  },
  {
   "cell_type": "code",
   "execution_count": 11,
   "metadata": {},
   "outputs": [
    {
     "data": {
      "text/plain": [
       "{('c', 'd', 'e'), 1, 2, 3, 5, 6, 7, 'a'}"
      ]
     },
     "execution_count": 11,
     "metadata": {},
     "output_type": "execute_result"
    }
   ],
   "source": [
    "z.update([5,6,7]) # ini akan berhasil\n",
    "z"
   ]
  },
  {
   "cell_type": "code",
   "execution_count": 12,
   "metadata": {
    "scrolled": true
   },
   "outputs": [
    {
     "data": {
      "text/plain": [
       "{('c', 'd', 'e'), 1, 2, 3, 5, 6, 7, 'a', 'd', 'i', 'n'}"
      ]
     },
     "execution_count": 12,
     "metadata": {},
     "output_type": "execute_result"
    }
   ],
   "source": [
    "z.update('andi') # ini akan berhasil. karena andi akan dipecah menjadi a, n, d, i\n",
    "z"
   ]
  },
  {
   "cell_type": "markdown",
   "metadata": {},
   "source": [
    "### 4.2.3 `remove()`, `discard()` and `pop()`"
   ]
  },
  {
   "cell_type": "code",
   "execution_count": 13,
   "metadata": {
    "scrolled": true
   },
   "outputs": [
    {
     "ename": "KeyError",
     "evalue": "4",
     "output_type": "error",
     "traceback": [
      "\u001b[1;31m---------------------------------------------------------------------------\u001b[0m",
      "\u001b[1;31mKeyError\u001b[0m                                  Traceback (most recent call last)",
      "\u001b[1;32m<ipython-input-13-fcc69bb91460>\u001b[0m in \u001b[0;36m<module>\u001b[1;34m\u001b[0m\n\u001b[0;32m      4\u001b[0m \u001b[1;31m# pop() menghapus element secara random\u001b[0m\u001b[1;33m\u001b[0m\u001b[1;33m\u001b[0m\u001b[1;33m\u001b[0m\u001b[0m\n\u001b[0;32m      5\u001b[0m \u001b[1;33m\u001b[0m\u001b[0m\n\u001b[1;32m----> 6\u001b[1;33m \u001b[0mz\u001b[0m\u001b[1;33m.\u001b[0m\u001b[0mremove\u001b[0m\u001b[1;33m(\u001b[0m\u001b[1;36m4\u001b[0m\u001b[1;33m)\u001b[0m \u001b[1;31m# ini akan error\u001b[0m\u001b[1;33m\u001b[0m\u001b[1;33m\u001b[0m\u001b[0m\n\u001b[0m",
      "\u001b[1;31mKeyError\u001b[0m: 4"
     ]
    }
   ],
   "source": [
    "# remove dan discard fungsinya hampir sama.\n",
    "# bedanya jika ingin menghapus element yang tidak ada, remove() akan mengeluarkan error\n",
    "# sedangkan discard() tidak menampilkan error.\n",
    "# pop() menghapus element secara random\n",
    "\n",
    "z.remove(4) # ini akan error"
   ]
  },
  {
   "cell_type": "code",
   "execution_count": 14,
   "metadata": {},
   "outputs": [],
   "source": [
    "z.discard(4) # ini tidak akan error"
   ]
  },
  {
   "cell_type": "code",
   "execution_count": 15,
   "metadata": {},
   "outputs": [
    {
     "data": {
      "text/plain": [
       "{('c', 'd', 'e'), 2, 3, 5, 6, 7, 'a', 'd', 'i', 'n'}"
      ]
     },
     "execution_count": 15,
     "metadata": {},
     "output_type": "execute_result"
    }
   ],
   "source": [
    "z.pop() # menghapus element entah urutan yang mana\n",
    "z"
   ]
  },
  {
   "cell_type": "markdown",
   "metadata": {},
   "source": [
    "### 4.2.4 `clear()`"
   ]
  },
  {
   "cell_type": "code",
   "execution_count": 16,
   "metadata": {
    "scrolled": true
   },
   "outputs": [
    {
     "data": {
      "text/plain": [
       "set()"
      ]
     },
     "execution_count": 16,
     "metadata": {},
     "output_type": "execute_result"
    }
   ],
   "source": [
    "z_copy = z.copy()\n",
    "z_copy.clear()\n",
    "z_copy"
   ]
  },
  {
   "cell_type": "markdown",
   "metadata": {},
   "source": [
    "### 4.2.5 irisan (`intersection()` / + ) dan selisih (`difference()` / - )"
   ]
  },
  {
   "cell_type": "code",
   "execution_count": 17,
   "metadata": {
    "scrolled": true
   },
   "outputs": [
    {
     "name": "stdout",
     "output_type": "stream",
     "text": [
      "['a', 'b', 'c', 'd', 'e']\n",
      "['b', 'c', 'f', 'g', 'h']\n"
     ]
    }
   ],
   "source": [
    "a_list = list('abcde')\n",
    "b_list = list('bcfgh')\n",
    "print(a_list)\n",
    "print(b_list)"
   ]
  },
  {
   "cell_type": "code",
   "execution_count": 18,
   "metadata": {
    "scrolled": true
   },
   "outputs": [
    {
     "name": "stdout",
     "output_type": "stream",
     "text": [
      "{'e', 'b', 'c', 'a', 'd'}\n",
      "{'f', 'b', 'h', 'c', 'g'}\n"
     ]
    }
   ],
   "source": [
    "a_set = set(a_list)\n",
    "b_set = set(b_list)\n",
    "print(a_set)\n",
    "print(b_set)"
   ]
  },
  {
   "cell_type": "code",
   "execution_count": 19,
   "metadata": {},
   "outputs": [
    {
     "data": {
      "text/plain": [
       "{'b', 'c'}"
      ]
     },
     "execution_count": 19,
     "metadata": {},
     "output_type": "execute_result"
    }
   ],
   "source": [
    "a_set.intersection(b_set)"
   ]
  },
  {
   "cell_type": "code",
   "execution_count": 20,
   "metadata": {},
   "outputs": [
    {
     "data": {
      "text/plain": [
       "{'a', 'd', 'e'}"
      ]
     },
     "execution_count": 20,
     "metadata": {},
     "output_type": "execute_result"
    }
   ],
   "source": [
    "# mencari element yang ada di a_set, yang tidak ada di b_set dan tidak ada di irisan antara a dan b\n",
    "a_set.difference(b_set)"
   ]
  },
  {
   "cell_type": "code",
   "execution_count": 21,
   "metadata": {},
   "outputs": [
    {
     "data": {
      "text/plain": [
       "{'f', 'g', 'h'}"
      ]
     },
     "execution_count": 21,
     "metadata": {},
     "output_type": "execute_result"
    }
   ],
   "source": [
    "# mencari element yang ada di b_set, yang tidak ada di a_set dan tidak ada di irisan antara a dan b\n",
    "b_set.difference(a_set)"
   ]
  },
  {
   "cell_type": "markdown",
   "metadata": {},
   "source": [
    "### 4.2.6 Gabungan (`union()`/ | )"
   ]
  },
  {
   "cell_type": "code",
   "execution_count": 22,
   "metadata": {},
   "outputs": [
    {
     "data": {
      "text/plain": [
       "{'a', 'b', 'c', 'd', 'e', 'f', 'g', 'h'}"
      ]
     },
     "execution_count": 22,
     "metadata": {},
     "output_type": "execute_result"
    }
   ],
   "source": [
    "a_set.union(b_set)"
   ]
  },
  {
   "cell_type": "markdown",
   "metadata": {},
   "source": [
    "### 4.2.7 Beda setangkup (`symmetric_difference()` / ^ )"
   ]
  },
  {
   "cell_type": "code",
   "execution_count": 23,
   "metadata": {
    "scrolled": true
   },
   "outputs": [
    {
     "data": {
      "text/plain": [
       "{'a', 'd', 'e', 'f', 'g', 'h'}"
      ]
     },
     "execution_count": 23,
     "metadata": {},
     "output_type": "execute_result"
    }
   ],
   "source": [
    "a_set.symmetric_difference(b_set)"
   ]
  },
  {
   "cell_type": "markdown",
   "metadata": {},
   "source": [
    "### 4.2.8 Quiz  1"
   ]
  },
  {
   "cell_type": "code",
   "execution_count": 24,
   "metadata": {},
   "outputs": [],
   "source": [
    "p = [1,2,4,7,9,19]\n",
    "q = [5,12,16,17,7,9,19,6]\n",
    "r = [19,6,3,8]"
   ]
  },
  {
   "cell_type": "code",
   "execution_count": 25,
   "metadata": {},
   "outputs": [
    {
     "name": "stdout",
     "output_type": "stream",
     "text": [
      "{1, 2, 4, 7, 9, 19} \n",
      " {5, 6, 7, 9, 12, 16, 17, 19} \n",
      " {3, 8, 19, 6}\n"
     ]
    }
   ],
   "source": [
    "p = set(p)\n",
    "q = set(q)\n",
    "r = set(r)\n",
    "print(p,'\\n',q,'\\n',r)"
   ]
  },
  {
   "cell_type": "code",
   "execution_count": 26,
   "metadata": {},
   "outputs": [
    {
     "data": {
      "text/plain": [
       "{7, 9, 19}"
      ]
     },
     "execution_count": 26,
     "metadata": {},
     "output_type": "execute_result"
    }
   ],
   "source": [
    "p_irisan_q = p.intersection(q)\n",
    "p_irisan_q"
   ]
  },
  {
   "cell_type": "code",
   "execution_count": 27,
   "metadata": {
    "scrolled": true
   },
   "outputs": [
    {
     "data": {
      "text/plain": [
       "{19}"
      ]
     },
     "execution_count": 27,
     "metadata": {},
     "output_type": "execute_result"
    }
   ],
   "source": [
    "p_irisan_q_irisan_r = p.intersection(q).intersection(r)\n",
    "p_irisan_q_irisan_r"
   ]
  },
  {
   "cell_type": "markdown",
   "metadata": {},
   "source": [
    "### 4.2.9 Quiz 2"
   ]
  },
  {
   "cell_type": "code",
   "execution_count": 28,
   "metadata": {},
   "outputs": [
    {
     "name": "stdout",
     "output_type": "stream",
     "text": [
      "S: {0, 1, 2, 3, 4, 5, 6, 7, 8, 9, -2, -9, -8, -7, -6, -5, -4, -3, -1}\n",
      "P: {0, 1, 2, 3, 4, -1, -4, -3, -2}\n",
      "Q: {0, 1, -1, -7, -6, -5, -4, -3, -2}\n",
      "R: {0, 1, 2, 3, 4, 5, 6, 7, -1}\n"
     ]
    }
   ],
   "source": [
    "ss = set(range(-9,10,1))\n",
    "pp = set(range(-4,5,1))\n",
    "qq = set(range(-7,2,1))\n",
    "rr = set(range(-1,8,1))\n",
    "print('S:',ss)\n",
    "print('P:',pp)\n",
    "print('Q:',qq)\n",
    "print('R:',rr)"
   ]
  },
  {
   "cell_type": "code",
   "execution_count": 29,
   "metadata": {
    "scrolled": false
   },
   "outputs": [
    {
     "name": "stdout",
     "output_type": "stream",
     "text": [
      "Tentukan P gabungan Q\n",
      "{0, 1, 2, 3, 4, -1, -7, -6, -5, -4, -3, -2}\n",
      "\n",
      "\n",
      "Tentukan P gabungan R\n",
      "{0, 1, 2, 3, 4, 5, 6, 7, -1, -4, -3, -2}\n",
      "\n",
      "\n",
      "Tentutkan Q gabungan R\n",
      "{0, 1, 2, 3, 4, 5, 6, 7, -1, -7, -6, -5, -4, -3, -2}\n"
     ]
    }
   ],
   "source": [
    "print('Tentukan P gabungan Q')\n",
    "print(pp.union(qq))\n",
    "print('\\n')\n",
    "print('Tentukan P gabungan R')\n",
    "print(pp.union(rr))\n",
    "print('\\n')\n",
    "print('Tentutkan Q gabungan R')\n",
    "print(qq.union(rr))"
   ]
  },
  {
   "cell_type": "markdown",
   "metadata": {},
   "source": [
    "### 4.2.10 Quiz 3"
   ]
  },
  {
   "cell_type": "code",
   "execution_count": 35,
   "metadata": {},
   "outputs": [],
   "source": [
    "import math\n",
    "import sympy"
   ]
  },
  {
   "cell_type": "code",
   "execution_count": 39,
   "metadata": {},
   "outputs": [
    {
     "name": "stdout",
     "output_type": "stream",
     "text": [
      "S: {0, 1, 2, 3, 4, 5, 6, 7, 8, 9, 10} \n",
      " A: {2, 3, 5, 7} \n",
      " B {9, 5, 7} \n",
      "\n"
     ]
    }
   ],
   "source": [
    "ss = set(range(0,11,1))\n",
    "aa = set(sympy.primerange(0,10))\n",
    "bb = set([5,7,9])\n",
    "\n",
    "print('S:',ss,'\\n','A:',aa,'\\n','B',bb,'\\n')"
   ]
  },
  {
   "cell_type": "code",
   "execution_count": 44,
   "metadata": {},
   "outputs": [
    {
     "name": "stdout",
     "output_type": "stream",
     "text": [
      "{5, 7}\n",
      "{2, 3, 5, 7, 9}\n",
      "{2, 3, 5, 7}\n",
      "{9, 5, 7}\n",
      "{2, 3, 5, 7, 9}\n",
      "{2, 3, 5, 7, 9}\n"
     ]
    }
   ],
   "source": [
    "cc = set(aa&bb)\n",
    "dd = set(aa|bb)\n",
    "ee = set(aa&(aa|bb))\n",
    "ff = set(bb&(aa|bb))\n",
    "gg = set((aa|bb)&(aa|bb))\n",
    "hh = set((aa&bb)|(aa|bb))\n",
    "\n",
    "print(cc)\n",
    "print(dd)\n",
    "print(ee)\n",
    "print(ff)\n",
    "print(gg)\n",
    "print(hh)"
   ]
  },
  {
   "cell_type": "markdown",
   "metadata": {},
   "source": [
    "## 4.4 For loops"
   ]
  },
  {
   "cell_type": "code",
   "execution_count": 32,
   "metadata": {},
   "outputs": [
    {
     "data": {
      "text/plain": [
       "{('c', 'd', 'e'), 2, 3, 5, 6, 7, 'a', 'd', 'i', 'n'}"
      ]
     },
     "execution_count": 32,
     "metadata": {},
     "output_type": "execute_result"
    }
   ],
   "source": [
    "z"
   ]
  },
  {
   "cell_type": "code",
   "execution_count": 45,
   "metadata": {},
   "outputs": [
    {
     "name": "stdout",
     "output_type": "stream",
     "text": [
      "[2, 3, 'i', 5, 6, 7, 'd', 'a', 'n', ('c', 'd', 'e')]\n",
      "2\n"
     ]
    }
   ],
   "source": [
    "# Untuk mengakses tiap element, bisa dengan mengubah set menjadi list\n",
    "z_list = list(z)\n",
    "print(z_list)\n",
    "print(z_list[0])"
   ]
  },
  {
   "cell_type": "code",
   "execution_count": 47,
   "metadata": {},
   "outputs": [
    {
     "data": {
      "text/plain": [
       "[2, 3, 'i', 5, 6, 7, 'd', 'a', 'n', ('c', 'd', 'e')]"
      ]
     },
     "execution_count": 47,
     "metadata": {},
     "output_type": "execute_result"
    }
   ],
   "source": [
    "# Atau dengan for loops\n",
    "new_list = []\n",
    "for i in list(z):\n",
    "    new_list.append(i)\n",
    "new_list"
   ]
  }
 ],
 "metadata": {
  "kernelspec": {
   "display_name": "Python 3",
   "language": "python",
   "name": "python3"
  },
  "language_info": {
   "codemirror_mode": {
    "name": "ipython",
    "version": 3
   },
   "file_extension": ".py",
   "mimetype": "text/x-python",
   "name": "python",
   "nbconvert_exporter": "python",
   "pygments_lexer": "ipython3",
   "version": "3.7.4"
  }
 },
 "nbformat": 4,
 "nbformat_minor": 2
}
