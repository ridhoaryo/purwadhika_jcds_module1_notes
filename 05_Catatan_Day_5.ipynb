{
 "cells": [
  {
   "cell_type": "markdown",
   "metadata": {},
   "source": [
    "# 5.1 Dictionary"
   ]
  },
  {
   "cell_type": "code",
   "execution_count": 3,
   "metadata": {},
   "outputs": [],
   "source": [
    "andi = {\n",
    "    'name': 'Andi',\n",
    "    'age': 22,\n",
    "    'is_married': False,\n",
    "    #meng-update dictionary\n",
    "    'job': 'PNS',\n",
    "    'cars': ['Alphard', 'Xpander', 'Innova'], #boleh berupa list\n",
    "    'address': {\n",
    "        'street': 'Mawar Ungu', # atau berupa dictionary yang lain\n",
    "        'RT': 5,\n",
    "        'RW': 2,\n",
    "        'zipcode': 123456,\n",
    "        'geo': {\n",
    "            'lat': 121321.1212, # dalam dictionary ada dictionary lagi!\n",
    "            'long': 4335435.21333\n",
    "        }\n",
    "    }\n",
    "}"
   ]
  },
  {
   "cell_type": "markdown",
   "metadata": {},
   "source": [
    "## 5.1.1 Mengambil value dari dictionary"
   ]
  },
  {
   "cell_type": "code",
   "execution_count": 4,
   "metadata": {
    "scrolled": true
   },
   "outputs": [
    {
     "name": "stdout",
     "output_type": "stream",
     "text": [
      "Andi\n",
      "22\n",
      "False\n"
     ]
    }
   ],
   "source": [
    "# mengambil value dari dictionary\n",
    "print(andi['name'])\n",
    "print(andi['age'])\n",
    "print(andi['is_married'])"
   ]
  },
  {
   "cell_type": "markdown",
   "metadata": {},
   "source": [
    "## 5.1.2 Mengambil value dari dictionary menggunakan method `get()`"
   ]
  },
  {
   "cell_type": "code",
   "execution_count": 5,
   "metadata": {
    "scrolled": true
   },
   "outputs": [
    {
     "name": "stdout",
     "output_type": "stream",
     "text": [
      "Andi\n",
      "22\n",
      "False\n"
     ]
    }
   ],
   "source": [
    "# mengambil value dari dictionary dengan method .get()\n",
    "print(andi.get('name'))\n",
    "print(andi.get('age'))\n",
    "print(andi.get('is_married'))"
   ]
  },
  {
   "cell_type": "code",
   "execution_count": 7,
   "metadata": {},
   "outputs": [
    {
     "data": {
      "text/plain": [
       "{'lat': 121321.1212, 'long': 4335435.21333}"
      ]
     },
     "execution_count": 7,
     "metadata": {},
     "output_type": "execute_result"
    }
   ],
   "source": [
    "#mengakses dictionary dalam dictionary\n",
    "andi['address']['geo']"
   ]
  },
  {
   "cell_type": "markdown",
   "metadata": {},
   "source": [
    "## 5.1.3 `update()`"
   ]
  },
  {
   "cell_type": "code",
   "execution_count": 8,
   "metadata": {},
   "outputs": [
    {
     "data": {
      "text/plain": [
       "25000000"
      ]
     },
     "execution_count": 8,
     "metadata": {},
     "output_type": "execute_result"
    }
   ],
   "source": [
    "andi['salary'] = 25000000\n",
    "andi['salary']"
   ]
  },
  {
   "cell_type": "code",
   "execution_count": 9,
   "metadata": {},
   "outputs": [
    {
     "data": {
      "text/plain": [
       "1234567890"
      ]
     },
     "execution_count": 9,
     "metadata": {},
     "output_type": "execute_result"
    }
   ],
   "source": [
    "andi.update({'no_ktp': 1234567890})\n",
    "andi['no_ktp']"
   ]
  },
  {
   "cell_type": "markdown",
   "metadata": {},
   "source": [
    "## 5.1.4 Mengambil keys dari dictionary"
   ]
  },
  {
   "cell_type": "code",
   "execution_count": 10,
   "metadata": {
    "scrolled": true
   },
   "outputs": [
    {
     "name": "stdout",
     "output_type": "stream",
     "text": [
      "['name', 'age', 'is_married', 'job', 'cars', 'address', 'salary', 'no_ktp']\n"
     ]
    }
   ],
   "source": [
    "print(list(andi.copy()))"
   ]
  },
  {
   "cell_type": "code",
   "execution_count": 11,
   "metadata": {},
   "outputs": [
    {
     "name": "stdout",
     "output_type": "stream",
     "text": [
      "['name', 'age', 'is_married', 'job', 'cars', 'address', 'salary', 'no_ktp']\n"
     ]
    }
   ],
   "source": [
    "print(list(andi.keys()))"
   ]
  },
  {
   "cell_type": "markdown",
   "metadata": {},
   "source": [
    "## 5.1.5 Mengambil values dari dictionary"
   ]
  },
  {
   "cell_type": "code",
   "execution_count": 12,
   "metadata": {},
   "outputs": [
    {
     "name": "stdout",
     "output_type": "stream",
     "text": [
      "['Andi', 22, False, 'PNS', ['Alphard', 'Xpander', 'Innova'], {'street': 'Mawar Ungu', 'RT': 5, 'RW': 2, 'zipcode': 123456, 'geo': {'lat': 121321.1212, 'long': 4335435.21333}}, 25000000, 1234567890]\n"
     ]
    }
   ],
   "source": [
    "print(list(andi.values()))"
   ]
  },
  {
   "cell_type": "markdown",
   "metadata": {},
   "source": [
    "## 5.1.6 Quiz: Translator"
   ]
  },
  {
   "cell_type": "code",
   "execution_count": 6,
   "metadata": {
    "scrolled": true
   },
   "outputs": [
    {
     "data": {
      "text/plain": [
       "{'senin': 'monday',\n",
       " 'selasa': 'tuesday',\n",
       " 'rabu': 'wednesday',\n",
       " 'kamis': 'thursday',\n",
       " 'jumat': 'friday',\n",
       " 'sabtu': 'saturday',\n",
       " 'ahad': 'sunday'}"
      ]
     },
     "execution_count": 6,
     "metadata": {},
     "output_type": "execute_result"
    }
   ],
   "source": [
    "days = {\n",
    "    'senin': 'monday', 'selasa': 'tuesday', 'rabu': 'wednesday', 'kamis': 'thursday', 'jumat': 'friday', 'sabtu': 'saturday',\n",
    "    'ahad': 'sunday'\n",
    "}\n",
    "days"
   ]
  },
  {
   "cell_type": "code",
   "execution_count": 7,
   "metadata": {},
   "outputs": [
    {
     "name": "stdout",
     "output_type": "stream",
     "text": [
      "Masukkan nama hari: haei\n",
      "Bahasa Inggris dari HAEI adalah NOT FOUND!\n"
     ]
    }
   ],
   "source": [
    "# indonesia - inggris\n",
    "day = input('Masukkan nama hari: ').lower()\n",
    "day_translate = days.get(day, 'Not Found!')\n",
    "print(f'Bahasa Inggris dari {day.upper()} adalah {day_translate.upper()}')"
   ]
  },
  {
   "cell_type": "markdown",
   "metadata": {},
   "source": [
    "# 5.2 `if`, `elif`, `else`"
   ]
  },
  {
   "cell_type": "code",
   "execution_count": 1,
   "metadata": {
    "scrolled": true
   },
   "outputs": [
    {
     "name": "stdout",
     "output_type": "stream",
     "text": [
      "True\n"
     ]
    }
   ],
   "source": [
    "if True:\n",
    "    print(True)\n",
    "elif False:\n",
    "    print(False)"
   ]
  },
  {
   "cell_type": "code",
   "execution_count": 2,
   "metadata": {},
   "outputs": [
    {
     "name": "stdout",
     "output_type": "stream",
     "text": [
      "benar\n"
     ]
    }
   ],
   "source": [
    "x = 5\n",
    "if x < 4:\n",
    "    print('salah')\n",
    "if x == 5:\n",
    "    print('benar')"
   ]
  },
  {
   "cell_type": "code",
   "execution_count": 3,
   "metadata": {},
   "outputs": [
    {
     "name": "stdout",
     "output_type": "stream",
     "text": [
      "Anda orang sibuk\n"
     ]
    }
   ],
   "source": [
    "jomblo = False; nganggur = False\n",
    "\n",
    "if jomblo and nganggur:\n",
    "    print('Anda jomblo pengangguran')\n",
    "elif jomblo and not nganggur:\n",
    "    print('Anda kurang piknik')\n",
    "elif not jomblo and nganggur:\n",
    "    print('Anda harus cari kerja')\n",
    "elif not jomblo and not nganggur:\n",
    "    print('Anda orang sibuk')"
   ]
  },
  {
   "cell_type": "markdown",
   "metadata": {},
   "source": [
    "## 5.2.1 Quiz - Converter Nilai "
   ]
  },
  {
   "cell_type": "code",
   "execution_count": 4,
   "metadata": {
    "scrolled": true
   },
   "outputs": [
    {
     "name": "stdout",
     "output_type": "stream",
     "text": [
      "Nilai Anda: A\n"
     ]
    }
   ],
   "source": [
    "nilai = 98\n",
    "if nilai >= 82:\n",
    "    print('Nilai Anda: A')\n",
    "elif nilai>=72 & nilai<=81:\n",
    "    print('Nilai Anda: B')\n",
    "elif nilai>=62 & nilai<=71:\n",
    "    print('Nilai Anda: C')\n",
    "elif nilai>=52 & nilai<=61:\n",
    "    print('Nilai Anda: D')\n",
    "else:\n",
    "    print('Nilai Anda: E')"
   ]
  },
  {
   "cell_type": "markdown",
   "metadata": {},
   "source": [
    "## 5.2.2 Quiz - Translator (Eng-Ind) lanjutan tadi "
   ]
  },
  {
   "cell_type": "code",
   "execution_count": 8,
   "metadata": {},
   "outputs": [
    {
     "name": "stdout",
     "output_type": "stream",
     "text": [
      "Ketik nama hari (ENG/INA): senin\n",
      "Bahasa Inggris senin adalah monday\n"
     ]
    }
   ],
   "source": [
    "# inggris - indonesia\n",
    "# engind = input('Masukan bahasa: ').lower()\n",
    "# day = input('Masukkan nama hari: ').lower()\n",
    "\n",
    "# if engind == 'indonesia':\n",
    "#     if day in days.values():\n",
    "#         print('itu bahasa Inggris')\n",
    "#     else:\n",
    "#         day_translate = days.get(day, 'Not Found!')\n",
    "#         print(f'Bahasa Inggris dari {day.upper()} adalah {day_translate.upper()}')\n",
    "    \n",
    "# elif engind == 'inggris':\n",
    "#     days_item_list = list(days.items())\n",
    "#     if day in days_item_list[0]:\n",
    "#         index = days_item_list[0].index(day)\n",
    "#         if index == 0:\n",
    "#             print('itu bahasa Indonesia')\n",
    "#         else:\n",
    "#             hari = days_item_list[0][index-1]\n",
    "#             print(f'Bahasa Indonesia dari {day.upper()} adalah {hari.upper()}')\n",
    "#     elif day in days_item_list[1]:\n",
    "#         index = days_item_list[1].index(day)\n",
    "#         if index == 0:\n",
    "#             print('itu bahasa Indonesia')\n",
    "#         else:\n",
    "#             hari = days_item_list[1][index-1]\n",
    "#             print(f'Bahasa Indonesia dari {day.upper()} adalah {hari.upper()}')\n",
    "#     elif day in days_item_list[2]:\n",
    "#         index = days_item_list[2].index(day)\n",
    "#         if index == 0:\n",
    "#             print('itu bahasa Indonesia')\n",
    "#         else:\n",
    "#             hari = days_item_list[2][index-1]\n",
    "#             print(f'Bahasa Indonesia dari {day.upper()} adalah {hari.upper()}')\n",
    "#     elif day in days_item_list[3]:\n",
    "#         if index == 0:\n",
    "#             print('itu bahasa Indonesia')\n",
    "#         else:\n",
    "#             index = days_item_list[3].index(day)\n",
    "#             hari = days_item_list[3][index-1]\n",
    "#             print(f'Bahasa Indonesia dari {day.upper()} adalah {hari.upper()}')\n",
    "#     elif day in days_item_list[4]:\n",
    "#         if index == 0:\n",
    "#             print('itu bahasa Indonesia')\n",
    "#         else:\n",
    "#             index = days_item_list[4].index(day)\n",
    "#             hari = days_item_list[4][index-1]\n",
    "#             print(f'Bahasa Indonesia dari {day.upper()} adalah {hari.upper()}')\n",
    "#     elif day in days_item_list[5]:\n",
    "#         if index == 0:\n",
    "#             print('itu bahasa Indonesia')\n",
    "#         else:    \n",
    "#             index = days_item_list[5].index(day)\n",
    "#             hari = days_item_list[5][index-1]\n",
    "#             print(f'Bahasa Indonesia dari {day.upper()} adalah {hari.upper()}')\n",
    "#     elif day in days_item_list[6]:\n",
    "#         if index == 0:\n",
    "#             print('itu bahasa Indonesia')\n",
    "#         else:    \n",
    "#             index = days_item_list[6].index(day)\n",
    "#             hari = days_item_list[6][index-1]\n",
    "#             print(f'Bahasa Indonesia dari {day.upper()} adalah {hari.upper()}')\n",
    "#     else:\n",
    "#         print(f'Bahasa Indonesia dari {day.upper()} adalah NGGA ADA HARI GITUAN, WOY!')\n",
    "\n",
    "# --------------- CODE IF YANG BERHASIL YANG SIMPLE ---------------\n",
    "hari_list = list(days)\n",
    "days_list = list(days.values())\n",
    "x = input('Ketik nama hari (ENG/INA): ').lower()\n",
    "\n",
    "if x in hari_list:\n",
    "    day = days_list[hari_list.index(x)]\n",
    "    print(f'Bahasa Inggris {x} adalah {day}')\n",
    "else:\n",
    "    hari = hari_list[day_list.index(x)]\n",
    "    print(f'Bahasa Indonesia {x} adalah {hari}')\n",
    "\n",
    "# --------------- CODE FOR YANG BERHASIL ---------------\n",
    "# for ind, eng in days.items():\n",
    "#     if day == eng:\n",
    "#         print(f'Bahasa Indonesia dari {day.upper()} adalah {ind.upper()}')"
   ]
  },
  {
   "cell_type": "code",
   "execution_count": 67,
   "metadata": {},
   "outputs": [
    {
     "name": "stdout",
     "output_type": "stream",
     "text": [
      "apakah jomblo: True\n"
     ]
    },
    {
     "data": {
      "text/plain": [
       "True"
      ]
     },
     "execution_count": 67,
     "metadata": {},
     "output_type": "execute_result"
    }
   ],
   "source": [
    "is_jomblo = bool(input('apakah jomblo: '))\n",
    "is_jomblo"
   ]
  },
  {
   "cell_type": "code",
   "execution_count": null,
   "metadata": {},
   "outputs": [],
   "source": []
  }
 ],
 "metadata": {
  "kernelspec": {
   "display_name": "Python 3",
   "language": "python",
   "name": "python3"
  },
  "language_info": {
   "codemirror_mode": {
    "name": "ipython",
    "version": 3
   },
   "file_extension": ".py",
   "mimetype": "text/x-python",
   "name": "python",
   "nbconvert_exporter": "python",
   "pygments_lexer": "ipython3",
   "version": "3.7.4"
  }
 },
 "nbformat": 4,
 "nbformat_minor": 2
}
