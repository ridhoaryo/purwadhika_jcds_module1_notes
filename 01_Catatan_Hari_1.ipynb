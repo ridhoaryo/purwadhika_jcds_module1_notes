{
 "cells": [
  {
   "cell_type": "markdown",
   "metadata": {},
   "source": [
    "# 1.1 Variable In Python"
   ]
  },
  {
   "cell_type": "code",
   "execution_count": 2,
   "metadata": {},
   "outputs": [],
   "source": [
    "nama = 'Andi' #type: String\n",
    "usia = 12 #type: int\n",
    "tinggi = 189.3 #type: float\n",
    "jomblo = False #type: boolean"
   ]
  },
  {
   "cell_type": "code",
   "execution_count": 3,
   "metadata": {
    "scrolled": true
   },
   "outputs": [
    {
     "name": "stdout",
     "output_type": "stream",
     "text": [
      "<class 'str'>\n",
      "<class 'int'>\n",
      "tipe data '1234': <class 'str'>\n"
     ]
    }
   ],
   "source": [
    "print(type(nama))\n",
    "print(type(usia))\n",
    "type_data = type('1234')\n",
    "print(\"tipe data '1234':\", type_data)"
   ]
  },
  {
   "cell_type": "markdown",
   "metadata": {},
   "source": [
    "## 1.1.1 It's All About String"
   ]
  },
  {
   "cell_type": "code",
   "execution_count": 4,
   "metadata": {
    "scrolled": false
   },
   "outputs": [
    {
     "name": "stdout",
     "output_type": "stream",
     "text": [
      "Jum'at\n",
      "Jum'at\n",
      "\n",
      "\n"
     ]
    }
   ],
   "source": [
    "print(\"Jum'at\")\n",
    "print('Jum\\'at') #backslash untuk mematikan simbol di depannya\n",
    "print('\\n')"
   ]
  },
  {
   "cell_type": "markdown",
   "metadata": {},
   "source": [
    "## 1.1.2 Tab and Enter"
   ]
  },
  {
   "cell_type": "code",
   "execution_count": 9,
   "metadata": {
    "scrolled": false
   },
   "outputs": [
    {
     "name": "stdout",
     "output_type": "stream",
     "text": [
      "Purwadhika\tSchool\n",
      "Purwadhika\n",
      "School\n",
      "\n",
      "\n"
     ]
    }
   ],
   "source": [
    "print(\"Purwadhika\\tSchool\") #\\t untuk tab\n",
    "print(\"Purwadhika\\nSchool\") #\\n untuk enter\n",
    "print('\\n')"
   ]
  },
  {
   "cell_type": "markdown",
   "metadata": {},
   "source": [
    "## 1.1.3 Add String"
   ]
  },
  {
   "cell_type": "code",
   "execution_count": 6,
   "metadata": {
    "scrolled": false
   },
   "outputs": [
    {
     "name": "stdout",
     "output_type": "stream",
     "text": [
      "PurwadhikaSchool\n",
      "Purwadhika School\n",
      "\n",
      "\n"
     ]
    }
   ],
   "source": [
    "name='Purwadhika'\n",
    "print(name+'School')\n",
    "print(name, 'School')\n",
    "print('\\n')"
   ]
  },
  {
   "cell_type": "markdown",
   "metadata": {},
   "source": [
    "## 1.1.4 Formatted String"
   ]
  },
  {
   "cell_type": "code",
   "execution_count": 7,
   "metadata": {
    "scrolled": true
   },
   "outputs": [
    {
     "name": "stdout",
     "output_type": "stream",
     "text": [
      "Saya Andi usia 22\n",
      "Saya Andi usia 22\n",
      "Saya Andi usia 22\n",
      "Saya Andi usia 22\n",
      "Saya Andi usia 22\n",
      "\n",
      "\n"
     ]
    }
   ],
   "source": [
    "name1 = 'Andi'\n",
    "usia1 = 22\n",
    "print('Saya ' + name1 + ' usia ' + str(usia1)) #cara 1\n",
    "print('Saya', name1, 'usia', usia1) #cara 2\n",
    "print('Saya %s usia %d' % (nama, usia1)) #cara 3\n",
    "print('Saya {} usia {}'.format(nama, usia1)) #cara 4\n",
    "print(f'Saya {name1} usia {usia1}') #cara 5\n",
    "\n",
    "#hasilnya akan tetap sama yaitu, 'Saya Andi usia 22'\n",
    "print('\\n')"
   ]
  },
  {
   "cell_type": "markdown",
   "metadata": {},
   "source": [
    "## 1.1.5 `lower` and `upper`"
   ]
  },
  {
   "cell_type": "code",
   "execution_count": 8,
   "metadata": {
    "scrolled": false
   },
   "outputs": [
    {
     "name": "stdout",
     "output_type": "stream",
     "text": [
      "andi raharja\n",
      "ANDI RAHARJA\n",
      "\n",
      "\n"
     ]
    }
   ],
   "source": [
    "name2 = 'Andi Raharja'\n",
    "print(name2.lower()) #menjadikan huruf kecil semua\n",
    "print(name2.upper()) #menjadikan huruf besar semua\n",
    "print('\\n')"
   ]
  },
  {
   "cell_type": "markdown",
   "metadata": {},
   "source": [
    "## 1.1.6 How to check is it lowercase or uppercase?"
   ]
  },
  {
   "cell_type": "code",
   "execution_count": 10,
   "metadata": {
    "scrolled": false
   },
   "outputs": [
    {
     "name": "stdout",
     "output_type": "stream",
     "text": [
      "True\n",
      "False\n",
      "\n",
      "\n"
     ]
    }
   ],
   "source": [
    "x = 'hahaha'\n",
    "print(x.islower()) #mengecek apakah semua karakter huruf kecil semua?\n",
    "print(x.isupper()) #mengecek apaka semua karakter huruf besar semua?\n",
    "print('\\n')"
   ]
  },
  {
   "cell_type": "markdown",
   "metadata": {},
   "source": [
    "## 1.1.7 How to check `len`, indexing and `replace` String."
   ]
  },
  {
   "cell_type": "code",
   "execution_count": 11,
   "metadata": {
    "scrolled": false
   },
   "outputs": [
    {
     "name": "stdout",
     "output_type": "stream",
     "text": [
      "17\n",
      "P\n",
      "7\n",
      "15\n",
      "\n",
      "\n"
     ]
    }
   ],
   "source": [
    "y = 'Python Oke Sekali'\n",
    "print(len(y))\n",
    "print(y[0])\n",
    "print(y.index('O')) # untuk mengetahui karakter tertentu terdapat di index ke berapa\n",
    "print(len(y.replace(' ', ''))) # untuk menghitung huruf dalam satu kalimat.\n",
    "# Dengan cara mengganti 'spasi' dengan 'empty string'\n",
    "print('\\n')"
   ]
  },
  {
   "cell_type": "markdown",
   "metadata": {},
   "source": [
    "# 1.2 Quiz"
   ]
  },
  {
   "cell_type": "code",
   "execution_count": 12,
   "metadata": {
    "scrolled": true
   },
   "outputs": [
    {
     "name": "stdout",
     "output_type": "stream",
     "text": [
      "hitung berapa 'c': 2\n",
      "hitung berapa kali 'startup' muncul: 1\n",
      "hitung berapa jumlah character dalam 'startup': 7\n",
      "\n",
      "\n"
     ]
    }
   ],
   "source": [
    "z = 'Purwadhika Startup & Coding School'\n",
    "z_lower = z.lower()\n",
    "#cari berapa 'c'\n",
    "print(\"hitung berapa 'c':\", z_lower.count('c'))\n",
    "#berapa kali 'startup' muncul\n",
    "print(\"hitung berapa kali 'startup' muncul:\", z_lower.count('startup'))\n",
    "#berapa character 'startup'\n",
    "z_list = z_lower.split()\n",
    "print(\"hitung berapa jumlah character dalam 'startup':\", len(z_list[1]))\n",
    "print('\\n')"
   ]
  },
  {
   "cell_type": "markdown",
   "metadata": {},
   "source": [
    "# 1.3 Answer"
   ]
  },
  {
   "cell_type": "code",
   "execution_count": 13,
   "metadata": {},
   "outputs": [
    {
     "name": "stdout",
     "output_type": "stream",
     "text": [
      "huruf 'c' ada 2\n",
      "huruf 'startup' ada 1\n"
     ]
    }
   ],
   "source": [
    "#cari berapa 'c'\n",
    "cari = 'c'\n",
    "z_replace = z.lower().replace(cari, '')\n",
    "jmlCari = len(z) - len(z_replace)\n",
    "print(f'huruf \\'{cari}\\' ada {jmlCari}')\n",
    "\n",
    "#cari berapa kata 'startup'\n",
    "cari2 = 'startup'\n",
    "z_replace2 = z.lower().replace(cari2, '')\n",
    "jmlCari2 = (len(z) - len(z_replace2)) // len(cari2)\n",
    "print(f'huruf \\'{cari2}\\' ada {jmlCari2}')"
   ]
  }
 ],
 "metadata": {
  "kernelspec": {
   "display_name": "Python 3",
   "language": "python",
   "name": "python3"
  },
  "language_info": {
   "codemirror_mode": {
    "name": "ipython",
    "version": 3
   },
   "file_extension": ".py",
   "mimetype": "text/x-python",
   "name": "python",
   "nbconvert_exporter": "python",
   "pygments_lexer": "ipython3",
   "version": "3.7.4"
  }
 },
 "nbformat": 4,
 "nbformat_minor": 2
}
