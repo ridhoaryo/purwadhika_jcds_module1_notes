{
 "cells": [
  {
   "cell_type": "markdown",
   "metadata": {},
   "source": [
    "# 10.1 Object Oriented Programing (OOP)"
   ]
  },
  {
   "cell_type": "markdown",
   "metadata": {},
   "source": [
    "## 10.1.1 How to make class"
   ]
  },
  {
   "cell_type": "code",
   "execution_count": 42,
   "metadata": {
    "scrolled": true
   },
   "outputs": [
    {
     "name": "stdout",
     "output_type": "stream",
     "text": [
      "merah\n",
      "{}\n"
     ]
    }
   ],
   "source": [
    "class Mobil:\n",
    "    warna = 'merah'\n",
    "    tahun = 2010\n",
    "\n",
    "        \n",
    "mobil1 = Mobil()\n",
    "print(mobil1.warna)\n",
    "print(vars(mobil1))"
   ]
  },
  {
   "cell_type": "markdown",
   "metadata": {},
   "source": [
    "## 10.1.2 How to make class properties"
   ]
  },
  {
   "cell_type": "code",
   "execution_count": 8,
   "metadata": {
    "scrolled": true
   },
   "outputs": [
    {
     "name": "stdout",
     "output_type": "stream",
     "text": [
      "pink\n",
      "2010\n"
     ]
    }
   ],
   "source": [
    "class MobilCustom():\n",
    "    def __init__(self, warna, tahun):\n",
    "        self.color = warna\n",
    "        self.year = tahun\n",
    "        \n",
    "mobil1 = MobilCustom(warna='pink', tahun=2010)\n",
    "mobil2 = MobilCustom(warna='navy', tahun=2018)\n",
    "print(mobil1.color)\n",
    "print(mobil1.year)"
   ]
  },
  {
   "cell_type": "code",
   "execution_count": 11,
   "metadata": {},
   "outputs": [
    {
     "name": "stdout",
     "output_type": "stream",
     "text": [
      "['A', 'B']\n",
      "['C', 'D']\n"
     ]
    }
   ],
   "source": [
    "class MobilCustom():\n",
    "    def __init__(self, warna, tahun, model):\n",
    "        self.color = warna\n",
    "        self.year = tahun\n",
    "        self.model = model\n",
    "        \n",
    "mobil1 = MobilCustom(warna='pink', tahun=2010, model=['A','B'])\n",
    "mobil2 = MobilCustom(warna='navy', tahun=2018, model=['C','D'])\n",
    "print(mobil1.model)\n",
    "print(mobil2.model)"
   ]
  },
  {
   "cell_type": "markdown",
   "metadata": {},
   "source": [
    "## 10.1.3 How to add function inside a class"
   ]
  },
  {
   "cell_type": "code",
   "execution_count": 16,
   "metadata": {},
   "outputs": [
    {
     "name": "stdout",
     "output_type": "stream",
     "text": [
      "X\n",
      "apakah jadul? False\n",
      "Warna mobil PINK, tahun mobil 2010, model mobil X\n"
     ]
    }
   ],
   "source": [
    "class MobilCustom():\n",
    "    def __init__(self, warna, tahun, model):\n",
    "        self.color = warna\n",
    "        self.year = tahun\n",
    "        self.model = model\n",
    "        \n",
    "    def jadul(self):\n",
    "        if self.year < 2010:\n",
    "            return True\n",
    "        else:\n",
    "            return False\n",
    "    \n",
    "    def spek_mobil(self):\n",
    "        return 'Warna mobil {0}, tahun mobil {1}, model mobil {2}'.format(self.color.upper(), self.year, self.model.upper())\n",
    "\n",
    "    \n",
    "mobil1 = MobilCustom(warna='pink', tahun=2010, model='X')\n",
    "mobil2 = MobilCustom(warna='navy', tahun=2018, model='Z')\n",
    "print(mobil1.model)\n",
    "print(f'apakah jadul?', mobil1.jadul()) # --> how to call method inside class\n",
    "print(mobil1.spek_mobil())"
   ]
  },
  {
   "cell_type": "markdown",
   "metadata": {},
   "source": [
    "## 10.1.4 How to make class which is the same as another class (Inheritance)"
   ]
  },
  {
   "cell_type": "code",
   "execution_count": 39,
   "metadata": {},
   "outputs": [
    {
     "name": "stdout",
     "output_type": "stream",
     "text": [
      "Black 4\n",
      "Pink 8 True Simbada True\n",
      "{'color': 'Pink', 'seat': 8, 'gps': True, 'sound_sys': 'Simbada', 'bel': True}\n",
      "{'color': 'Pink', 'seat': 8, 'gps': True, 'sound_sys': 'Simbada', 'bel': True}\n"
     ]
    }
   ],
   "source": [
    "class Mobil:\n",
    "    def __init__(self, warna, duduk):\n",
    "        self.color = warna\n",
    "        self.seat = duduk\n",
    "        \n",
    "class Hatcback(Mobil): # --------- Cara 1\n",
    "    pass\n",
    "\n",
    "class Sedan(Mobil): # ------------ Cara 2\n",
    "    def __init__(self, warna, duduk):\n",
    "        X.__init__(self, warna, duduk)\n",
    "        \n",
    "class Car(Mobil): # -------------- Cara 3 (dengan menambahkan property baru)\n",
    "    def __init__(self, warna, duduk, gps, sound_sys, bel):\n",
    "        super().__init__(warna, duduk)\n",
    "        self.gps = gps\n",
    "        self.sound_sys = sound_sys\n",
    "        self.bel = bel\n",
    "\n",
    "mobil1 = Mobil('Black', 4)\n",
    "car1 = Car('Pink', 8, True, 'Simbada', True)\n",
    "print(mobil1.color, mobil1.seat)\n",
    "print(car1.color, car1.seat, car1.gps, car1.sound_sys, car1.bel)\n",
    "\n",
    "print(vars(car1)) # --------- cara menampilkan semua variable\n",
    "print(car1.__dict__) # ------ cara lain menampilkan semua variable"
   ]
  },
  {
   "cell_type": "markdown",
   "metadata": {},
   "source": [
    "## 10.1.5 How to add property to an Object which already made."
   ]
  },
  {
   "cell_type": "code",
   "execution_count": 40,
   "metadata": {},
   "outputs": [
    {
     "name": "stdout",
     "output_type": "stream",
     "text": [
      "{'color': 'Pink', 'seat': 8, 'gps': True, 'sound_sys': 'Simbada', 'bel': True, 'velg': '18 inch'}\n"
     ]
    }
   ],
   "source": [
    "car1.velg = '18 inch'\n",
    "print(vars(car1))"
   ]
  },
  {
   "cell_type": "markdown",
   "metadata": {},
   "source": [
    "## 10.1.6 How to delete property from an Object."
   ]
  },
  {
   "cell_type": "code",
   "execution_count": 41,
   "metadata": {
    "scrolled": true
   },
   "outputs": [
    {
     "name": "stdout",
     "output_type": "stream",
     "text": [
      "{'color': 'Pink', 'seat': 8, 'gps': True, 'sound_sys': 'Simbada', 'bel': True}\n"
     ]
    }
   ],
   "source": [
    "delattr(car1, 'velg') # ------ Tidak untuk menghapus property yang ada di Class\n",
    "print(vars(car1))"
   ]
  },
  {
   "cell_type": "markdown",
   "metadata": {},
   "source": [
    "## 10.1.7 How to delete property from Class"
   ]
  },
  {
   "cell_type": "code",
   "execution_count": 43,
   "metadata": {
    "scrolled": true
   },
   "outputs": [
    {
     "name": "stdout",
     "output_type": "stream",
     "text": [
      "{'seat': 8, 'gps': True, 'sound_sys': 'Simbada', 'bel': True}\n"
     ]
    }
   ],
   "source": [
    "del car1.color\n",
    "print(vars(car1))"
   ]
  },
  {
   "cell_type": "markdown",
   "metadata": {},
   "source": [
    "## 10.1.8 Quiz"
   ]
  },
  {
   "cell_type": "markdown",
   "metadata": {},
   "source": [
    "### Cara `for`"
   ]
  },
  {
   "cell_type": "code",
   "execution_count": 66,
   "metadata": {
    "scrolled": true
   },
   "outputs": [
    {
     "name": "stdout",
     "output_type": "stream",
     "text": [
      "{'nama': 'Andi', 'usia': 21}\n",
      "{'nama': 'Budi', 'usia': 22}\n",
      "{'nama': 'Caca', 'usia': 23}\n",
      "{'nama': 'Deni', 'usia': 24}\n",
      "Andi 21\n",
      "Budi 22\n",
      "Caca 23\n",
      "Deni 24\n"
     ]
    }
   ],
   "source": [
    "class Student:\n",
    "    def __init__(self, nama, usia):\n",
    "        self.nama = nama\n",
    "        self.usia = usia\n",
    "        \n",
    "\n",
    "student_data = [\n",
    "    {'nama': 'Andi', 'usia': 21},\n",
    "    {'nama': 'Budi', 'usia': 22},\n",
    "    {'nama': 'Caca', 'usia': 23},\n",
    "    {'nama': 'Deni', 'usia': 24},\n",
    "]\n",
    "\n",
    "for data in student_data:\n",
    "    print(data)\n",
    "    nama = data['nama']\n",
    "    usia = data['usia']\n",
    "    vars()[nama] = Student(nama, usia)\n",
    "    #vars() mengambil value untuk dijadikan variable\n",
    "    \n",
    "print(Andi.nama, Andi.usia)\n",
    "print(Budi.nama, Budi.usia)\n",
    "print(Caca.nama, Caca.usia)\n",
    "print(Deni.nama, Deni.usia)"
   ]
  },
  {
   "cell_type": "markdown",
   "metadata": {},
   "source": [
    "### Cara `function`"
   ]
  },
  {
   "cell_type": "code",
   "execution_count": 68,
   "metadata": {},
   "outputs": [
    {
     "name": "stdout",
     "output_type": "stream",
     "text": [
      "Andi\n",
      "21\n"
     ]
    }
   ],
   "source": [
    "def create_obj(x):\n",
    "    nama = x['nama']\n",
    "    vars()[nama] = Student(x['nama'], x['usia'])\n",
    "    return vars()[nama]\n",
    "\n",
    "data_new_func = list(map(create_obj, student_data))\n",
    "print(data_new_func[0].nama)\n",
    "print(data_new_func[0].usia)"
   ]
  },
  {
   "cell_type": "code",
   "execution_count": 73,
   "metadata": {
    "scrolled": true
   },
   "outputs": [
    {
     "name": "stdout",
     "output_type": "stream",
     "text": [
      "Andi\n",
      "21\n"
     ]
    }
   ],
   "source": [
    "def create_obj(x):\n",
    "    return Student(x['nama'], x['usia'])\n",
    "\n",
    "data_new_func_2 = list(map(create_obj, student_data))\n",
    "print(data_new_func_2[0].nama)\n",
    "print(data_new_func_2[0].usia)"
   ]
  },
  {
   "cell_type": "markdown",
   "metadata": {},
   "source": [
    "### Cara `lambda`"
   ]
  },
  {
   "cell_type": "code",
   "execution_count": 72,
   "metadata": {
    "scrolled": true
   },
   "outputs": [
    {
     "name": "stdout",
     "output_type": "stream",
     "text": [
      "Andi\n",
      "21\n"
     ]
    }
   ],
   "source": [
    "data_new_lambda = list(map(lambda x: Student(x['nama'], x['usia']),student_data))\n",
    "print(data_new_lambda[0].nama)\n",
    "print(data_new_lambda[0].usia)"
   ]
  },
  {
   "cell_type": "markdown",
   "metadata": {},
   "source": [
    "## 10.1.9 class Persegi"
   ]
  },
  {
   "cell_type": "code",
   "execution_count": 75,
   "metadata": {},
   "outputs": [
    {
     "name": "stdout",
     "output_type": "stream",
     "text": [
      "{'sisi': 4, 'luas': 16, 'keliling': 16}\n"
     ]
    }
   ],
   "source": [
    "class Persegi:\n",
    "    def __init__(self, sisi):\n",
    "        self.sisi = sisi\n",
    "        self.luas = self.sisi ** 2\n",
    "        self.keliling = self.sisi * 4\n",
    "        \n",
    "persegi1 = Persegi(4)\n",
    "print(vars(persegi1))"
   ]
  },
  {
   "cell_type": "markdown",
   "metadata": {},
   "source": [
    "## 10.1.10 Quiz: class Romawi"
   ]
  },
  {
   "cell_type": "code",
   "execution_count": null,
   "metadata": {},
   "outputs": [],
   "source": [
    "class Romawi:\n",
    "    def__init__(self, angka):\n",
    "        romawi_dict = {\n",
    "            1:'I'\n",
    "            2:'II'\n",
    "            3:'III'\n",
    "            4:'IV'\n",
    "            5:'V'\n",
    "            6:'VI'\n",
    "        }\n",
    "        self.romawi ="
   ]
  },
  {
   "cell_type": "code",
   "execution_count": null,
   "metadata": {},
   "outputs": [],
   "source": [
    "romawi_dict = {1:'I', 5:'V', 10:'X', 50:'L', 100:'C', 500:'D', 1000:'M'}\n",
    "angka = 100\n"
   ]
  }
 ],
 "metadata": {
  "kernelspec": {
   "display_name": "Python 3",
   "language": "python",
   "name": "python3"
  },
  "language_info": {
   "codemirror_mode": {
    "name": "ipython",
    "version": 3
   },
   "file_extension": ".py",
   "mimetype": "text/x-python",
   "name": "python",
   "nbconvert_exporter": "python",
   "pygments_lexer": "ipython3",
   "version": "3.7.4"
  }
 },
 "nbformat": 4,
 "nbformat_minor": 2
}
